{
 "cells": [
  {
   "cell_type": "markdown",
   "metadata": {
    "collapsed": true
   },
   "source": [
    "# Definición de clase\n",
    "### Definiendo El tablero\n",
    "\n",
    "Cada tablero será una configuración de 9 espacios con ceros, unos o dos.\n",
    "\n",
    "Por lo que definimos la clase."
   ]
  },
  {
   "cell_type": "code",
   "execution_count": 3,
   "outputs": [
    {
     "name": "stdout",
     "output_type": "stream",
     "text": [
      "El tablero es: [1 2 1 1 1 2 2 1 2]\n",
      "La cantidad de turnos fue: 9\n",
      "El resultado fue un empate\n"
     ]
    },
    {
     "ename": "AttributeError",
     "evalue": "El tablero debe tener 9 elementos",
     "output_type": "error",
     "traceback": [
      "\u001B[1;31m---------------------------------------------------------------------------\u001B[0m",
      "\u001B[1;31mAttributeError\u001B[0m                            Traceback (most recent call last)",
      "Input \u001B[1;32mIn [3]\u001B[0m, in \u001B[0;36m<cell line: 35>\u001B[1;34m()\u001B[0m\n\u001B[0;32m     33\u001B[0m clase \u001B[38;5;241m=\u001B[39m Tablero(\u001B[38;5;241m0\u001B[39m, \u001B[38;5;241m9\u001B[39m, \u001B[38;5;241m1\u001B[39m, \u001B[38;5;241m2\u001B[39m, \u001B[38;5;241m1\u001B[39m, \u001B[38;5;241m1\u001B[39m, \u001B[38;5;241m1\u001B[39m, \u001B[38;5;241m2\u001B[39m, \u001B[38;5;241m2\u001B[39m, \u001B[38;5;241m1\u001B[39m, \u001B[38;5;241m2\u001B[39m)\n\u001B[0;32m     34\u001B[0m \u001B[38;5;28mprint\u001B[39m(clase)\n\u001B[1;32m---> 35\u001B[0m claseWE \u001B[38;5;241m=\u001B[39m \u001B[43mTablero\u001B[49m\u001B[43m(\u001B[49m\u001B[38;5;241;43m0\u001B[39;49m\u001B[43m,\u001B[49m\u001B[43m \u001B[49m\u001B[38;5;241;43m9\u001B[39;49m\u001B[43m,\u001B[49m\u001B[43m \u001B[49m\u001B[38;5;241;43m1\u001B[39;49m\u001B[43m)\u001B[49m\n\u001B[0;32m     36\u001B[0m \u001B[38;5;28mprint\u001B[39m(claseWE)\n",
      "Input \u001B[1;32mIn [3]\u001B[0m, in \u001B[0;36mTablero.__init__\u001B[1;34m(self, ganador, turnos, *tablero)\u001B[0m\n\u001B[0;32m      9\u001B[0m \u001B[38;5;28;01mdef\u001B[39;00m \u001B[38;5;21m__init__\u001B[39m(\u001B[38;5;28mself\u001B[39m, ganador: \u001B[38;5;28mint\u001B[39m, turnos, \u001B[38;5;241m*\u001B[39mtablero):\n\u001B[0;32m     10\u001B[0m     \u001B[38;5;28;01mif\u001B[39;00m \u001B[38;5;28mlen\u001B[39m(tablero) \u001B[38;5;241m!=\u001B[39m \u001B[38;5;241m9\u001B[39m:\n\u001B[1;32m---> 11\u001B[0m         \u001B[38;5;28;01mraise\u001B[39;00m \u001B[38;5;167;01mAttributeError\u001B[39;00m(\u001B[38;5;124m'\u001B[39m\u001B[38;5;124mEl tablero debe tener 9 elementos\u001B[39m\u001B[38;5;124m'\u001B[39m)\n\u001B[0;32m     12\u001B[0m     \u001B[38;5;28;01melse\u001B[39;00m:\n\u001B[0;32m     13\u001B[0m         \u001B[38;5;28mself\u001B[39m\u001B[38;5;241m.\u001B[39mganador \u001B[38;5;241m=\u001B[39m ganador\n",
      "\u001B[1;31mAttributeError\u001B[0m: El tablero debe tener 9 elementos"
     ]
    }
   ],
   "source": [
    "import numpy as np\n",
    "from typing import List\n",
    "\n",
    "\n",
    "class Tablero:\n",
    "    ganador: int # Define quien ha ganado el juego, 0 para un empate, 1 para las equis (X) y 2 para los Círculos (O)\n",
    "    tablero: None # Define la configuración del tablero (Data set)\n",
    "    turnos: int # Define en cuantos turnos se ha ganado, en caso de ser 9 turnos existe la posibilidad de que sea un empate\n",
    "    def __init__(self, ganador: int, turnos, *tablero):\n",
    "        if len(tablero) != 9:\n",
    "            raise AttributeError('El tablero debe tener 9 elementos')\n",
    "        else:\n",
    "            self.ganador = ganador\n",
    "            self.turnos = turnos\n",
    "            arr = []\n",
    "            for x in tablero:\n",
    "                arr.append(x)\n",
    "            tablero = np.array(arr)\n",
    "            self.tablero = tablero\n",
    "\n",
    "    def __str__(self):\n",
    "        msg = f\"El tablero es: {self.tablero}\\n\" \\\n",
    "              f\"La cantidad de turnos fue: {self.turnos}\\n\"\n",
    "        if self.ganador == 0:\n",
    "            msg += f\"El resultado fue un empate\"\n",
    "        elif self.ganador == 1:\n",
    "            msg += f\"El ganador fueron las X\"\n",
    "        else:\n",
    "            msg += f\"El ganador fueron los O\"\n",
    "\n",
    "        return msg\n",
    "\n",
    "clase = Tablero(0, 9, 1, 2, 1, 1, 1, 2, 2, 1, 2)\n",
    "print(clase)\n",
    "claseWE = Tablero(0, 9, 1)\n",
    "print(claseWE)"
   ],
   "metadata": {
    "collapsed": false
   }
  },
  {
   "cell_type": "markdown",
   "source": [
    "# Definiendo el evaluador\n",
    "### La clase debe evaluar por sí misma quien ha sido el ganador\n",
    "\n",
    "Ya tenemos la idea principal de lo que debe contener un tablero de Gato.\n",
    "Ahora hay que dejar que lo haga todo por nosotros para únicamente indicarle la configuración del tablero."
   ],
   "metadata": {
    "collapsed": false
   }
  },
  {
   "cell_type": "code",
   "execution_count": 4,
   "outputs": [
    {
     "name": "stdout",
     "output_type": "stream",
     "text": [
      "El tablero es: [1 1 1 2 2 0 0 0 0]\n",
      "La cantidad de turnos fue: 5\n",
      "Ganaron las X\n",
      "\n"
     ]
    }
   ],
   "source": [
    "class TableroAutomatico:\n",
    "    ganador: int\n",
    "    tablero: np.ndarray\n",
    "    turnos: int\n",
    "\n",
    "    def __init__(self, configuracion: np.ndarray):\n",
    "        if len(configuracion) != 9:\n",
    "            raise ValueError('La configuración del tablero debe ser de 9 individuos')\n",
    "        else:\n",
    "            if self.__validar(configuracion):\n",
    "                ganador = self.__definirGanador()\n",
    "\n",
    "                if self.turnos < 9:\n",
    "                    if ganador != 0:\n",
    "                        if ganador != -1:\n",
    "                            self.ganador = ganador\n",
    "                        else:\n",
    "                            raise ValueError(\"Existen 2 ganadores en la configuracion\")\n",
    "                    else:\n",
    "                        raise ValueError(\"La configuración es un juego incompleto\")\n",
    "\n",
    "                elif ganador != -1:\n",
    "                     self.ganador = ganador\n",
    "                else:\n",
    "                     raise ValueError(\"Existen 2 ganadores en la configuracion\")\n",
    "            else:\n",
    "                raise ValueError(\"El tablero no tiene una configuración adecuada\")\n",
    "\n",
    "    def __validar(self, conf) -> bool:\n",
    "        vacio = np.count_nonzero(conf == 0)\n",
    "        equis = np.count_nonzero(conf == 1)\n",
    "        circulo = np.count_nonzero(conf == 2)\n",
    "        if (vacio % 2 == 0 and vacio <= 4) and (equis - 1 == circulo or equis + 1 == circulo):\n",
    "            self.tablero = conf\n",
    "            self.turnos = equis + circulo\n",
    "            return True\n",
    "        elif equis == circulo and vacio <= 3:\n",
    "            self.tablero = conf\n",
    "            self.turnos = equis + circulo\n",
    "            return True\n",
    "        else:\n",
    "            return False\n",
    "\n",
    "\n",
    "    def __definirGanador(self) -> int:\n",
    "        arr = self.tablero\n",
    "\n",
    "        ganador = -1\n",
    "        if arr.item(0) != 0:\n",
    "            eval = arr.item(0)\n",
    "            # Linea 1, 2, 3\n",
    "            if (eval == arr.item(1)) and eval == arr.item(2):\n",
    "                if ganador != -1:\n",
    "                    return -1\n",
    "                ganador = eval\n",
    "            # Diagonal 1, 5, 9\n",
    "            if (eval == arr.item(3)) and eval == arr.item(6):\n",
    "                if ganador != -1:\n",
    "                    return -1\n",
    "                ganador = eval\n",
    "            # Linea 1, 4, 7\n",
    "            if (eval == arr.item(4)) and eval == arr.item(8):\n",
    "                if ganador != -1:\n",
    "                    return -1\n",
    "                ganador = eval\n",
    "        if arr.item(3) != 0:\n",
    "            eval = arr.item(3)\n",
    "            # Linea 4, 5, 6\n",
    "            if (eval == arr.item(4)) and eval == arr.item(5):\n",
    "                if ganador != -1:\n",
    "                    return -1\n",
    "                ganador = eval\n",
    "        if arr.item(6) != 0:\n",
    "            eval = arr.item(6)\n",
    "            # Linea 7, 5, 3\n",
    "            if (eval == arr.item(4)) and eval == arr.item(2):\n",
    "                if ganador != -1:\n",
    "                    return -1\n",
    "                ganador = eval\n",
    "            # Linea 7, 8, 9\n",
    "            if (eval == arr.item(7)) and eval == arr.item(8):\n",
    "                if ganador != -1:\n",
    "                    return -1\n",
    "                ganador = eval\n",
    "        if arr.item(1) != 0:\n",
    "            eval = arr.item(1)\n",
    "            # Linea 2, 5, 8\n",
    "            if (eval == arr.item(4)) and eval == arr.item(7):\n",
    "                if ganador != -1:\n",
    "                    return -1\n",
    "                ganador = eval\n",
    "        if arr.item(2) != 0:\n",
    "            eval = arr.item(2)\n",
    "            # Linea 3, 6, 9\n",
    "            if (eval == arr.item(5)) and eval == arr.item(8):\n",
    "                if ganador != -1:\n",
    "                    return -1\n",
    "                ganador = eval\n",
    "\n",
    "        if ganador != -1:\n",
    "            return ganador\n",
    "\n",
    "        return 0\n",
    "\n",
    "    def __str__(self):\n",
    "        msg = f\"El tablero es: {self.tablero}\\n\" \\\n",
    "              f\"La cantidad de turnos fue: {self.turnos}\\n\"\n",
    "        if self.ganador == 0:\n",
    "            msg += f\"El resultado fue un empate\\n\"\n",
    "        elif self.ganador == 1:\n",
    "            msg += f\"Ganaron las X\\n\"\n",
    "        else:\n",
    "            msg += f\"Ganaron los O\\n\"\n",
    "\n",
    "        return msg\n",
    "\n",
    "clase = TableroAutomatico(np.array([1, 1, 1, 2, 2, 0, 0, 0, 0]))\n",
    "print(clase)"
   ],
   "metadata": {
    "collapsed": false
   }
  },
  {
   "cell_type": "markdown",
   "source": [
    "## Error de longitud"
   ],
   "metadata": {
    "collapsed": false
   }
  },
  {
   "cell_type": "code",
   "execution_count": 5,
   "outputs": [
    {
     "ename": "ValueError",
     "evalue": "La configuración del tablero debe ser de 9 individuos",
     "output_type": "error",
     "traceback": [
      "\u001B[1;31m---------------------------------------------------------------------------\u001B[0m",
      "\u001B[1;31mValueError\u001B[0m                                Traceback (most recent call last)",
      "Input \u001B[1;32mIn [5]\u001B[0m, in \u001B[0;36m<cell line: 1>\u001B[1;34m()\u001B[0m\n\u001B[1;32m----> 1\u001B[0m clase \u001B[38;5;241m=\u001B[39m \u001B[43mTableroAutomatico\u001B[49m\u001B[43m(\u001B[49m\u001B[43m[\u001B[49m\u001B[38;5;241;43m1\u001B[39;49m\u001B[43m,\u001B[49m\u001B[43m \u001B[49m\u001B[38;5;241;43m1\u001B[39;49m\u001B[43m,\u001B[49m\u001B[43m \u001B[49m\u001B[38;5;241;43m1\u001B[39;49m\u001B[43m,\u001B[49m\u001B[43m \u001B[49m\u001B[38;5;241;43m2\u001B[39;49m\u001B[43m,\u001B[49m\u001B[43m \u001B[49m\u001B[38;5;241;43m2\u001B[39;49m\u001B[43m]\u001B[49m\u001B[43m)\u001B[49m\n",
      "Input \u001B[1;32mIn [4]\u001B[0m, in \u001B[0;36mTableroAutomatico.__init__\u001B[1;34m(self, configuracion)\u001B[0m\n\u001B[0;32m      6\u001B[0m \u001B[38;5;28;01mdef\u001B[39;00m \u001B[38;5;21m__init__\u001B[39m(\u001B[38;5;28mself\u001B[39m, configuracion: np\u001B[38;5;241m.\u001B[39mndarray):\n\u001B[0;32m      7\u001B[0m     \u001B[38;5;28;01mif\u001B[39;00m \u001B[38;5;28mlen\u001B[39m(configuracion) \u001B[38;5;241m!=\u001B[39m \u001B[38;5;241m9\u001B[39m:\n\u001B[1;32m----> 8\u001B[0m         \u001B[38;5;28;01mraise\u001B[39;00m \u001B[38;5;167;01mValueError\u001B[39;00m(\u001B[38;5;124m'\u001B[39m\u001B[38;5;124mLa configuración del tablero debe ser de 9 individuos\u001B[39m\u001B[38;5;124m'\u001B[39m)\n\u001B[0;32m      9\u001B[0m     \u001B[38;5;28;01melse\u001B[39;00m:\n\u001B[0;32m     10\u001B[0m         \u001B[38;5;28;01mif\u001B[39;00m \u001B[38;5;28mself\u001B[39m\u001B[38;5;241m.\u001B[39m__validar(configuracion):\n",
      "\u001B[1;31mValueError\u001B[0m: La configuración del tablero debe ser de 9 individuos"
     ]
    }
   ],
   "source": [
    "clase = TableroAutomatico([1, 1, 1, 2, 2])"
   ],
   "metadata": {
    "collapsed": false
   }
  },
  {
   "cell_type": "markdown",
   "source": [
    "## Error de configuración"
   ],
   "metadata": {
    "collapsed": false
   }
  },
  {
   "cell_type": "code",
   "execution_count": 6,
   "outputs": [
    {
     "ename": "AttributeError",
     "evalue": "'list' object has no attribute 'item'",
     "output_type": "error",
     "traceback": [
      "\u001B[1;31m---------------------------------------------------------------------------\u001B[0m",
      "\u001B[1;31mAttributeError\u001B[0m                            Traceback (most recent call last)",
      "Input \u001B[1;32mIn [6]\u001B[0m, in \u001B[0;36m<cell line: 1>\u001B[1;34m()\u001B[0m\n\u001B[1;32m----> 1\u001B[0m clase \u001B[38;5;241m=\u001B[39m \u001B[43mTableroAutomatico\u001B[49m\u001B[43m(\u001B[49m\u001B[43m[\u001B[49m\u001B[38;5;241;43m1\u001B[39;49m\u001B[43m,\u001B[49m\u001B[43m \u001B[49m\u001B[38;5;241;43m1\u001B[39;49m\u001B[43m,\u001B[49m\u001B[43m \u001B[49m\u001B[38;5;241;43m1\u001B[39;49m\u001B[43m,\u001B[49m\u001B[43m \u001B[49m\u001B[38;5;241;43m2\u001B[39;49m\u001B[43m,\u001B[49m\u001B[43m \u001B[49m\u001B[38;5;241;43m2\u001B[39;49m\u001B[43m,\u001B[49m\u001B[43m \u001B[49m\u001B[38;5;241;43m1\u001B[39;49m\u001B[43m,\u001B[49m\u001B[43m \u001B[49m\u001B[38;5;241;43m0\u001B[39;49m\u001B[43m,\u001B[49m\u001B[43m \u001B[49m\u001B[38;5;241;43m0\u001B[39;49m\u001B[43m,\u001B[49m\u001B[43m \u001B[49m\u001B[38;5;241;43m0\u001B[39;49m\u001B[43m]\u001B[49m\u001B[43m)\u001B[49m\n",
      "Input \u001B[1;32mIn [4]\u001B[0m, in \u001B[0;36mTableroAutomatico.__init__\u001B[1;34m(self, configuracion)\u001B[0m\n\u001B[0;32m      9\u001B[0m \u001B[38;5;28;01melse\u001B[39;00m:\n\u001B[0;32m     10\u001B[0m     \u001B[38;5;28;01mif\u001B[39;00m \u001B[38;5;28mself\u001B[39m\u001B[38;5;241m.\u001B[39m__validar(configuracion):\n\u001B[1;32m---> 11\u001B[0m         ganador \u001B[38;5;241m=\u001B[39m \u001B[38;5;28;43mself\u001B[39;49m\u001B[38;5;241;43m.\u001B[39;49m\u001B[43m__definirGanador\u001B[49m\u001B[43m(\u001B[49m\u001B[43m)\u001B[49m\n\u001B[0;32m     13\u001B[0m         \u001B[38;5;28;01mif\u001B[39;00m \u001B[38;5;28mself\u001B[39m\u001B[38;5;241m.\u001B[39mturnos \u001B[38;5;241m<\u001B[39m \u001B[38;5;241m9\u001B[39m:\n\u001B[0;32m     14\u001B[0m             \u001B[38;5;28;01mif\u001B[39;00m ganador \u001B[38;5;241m!=\u001B[39m \u001B[38;5;241m0\u001B[39m:\n",
      "Input \u001B[1;32mIn [4]\u001B[0m, in \u001B[0;36mTableroAutomatico.__definirGanador\u001B[1;34m(self)\u001B[0m\n\u001B[0;32m     46\u001B[0m arr \u001B[38;5;241m=\u001B[39m \u001B[38;5;28mself\u001B[39m\u001B[38;5;241m.\u001B[39mtablero\n\u001B[0;32m     48\u001B[0m ganador \u001B[38;5;241m=\u001B[39m \u001B[38;5;241m-\u001B[39m\u001B[38;5;241m1\u001B[39m\n\u001B[1;32m---> 49\u001B[0m \u001B[38;5;28;01mif\u001B[39;00m \u001B[43marr\u001B[49m\u001B[38;5;241;43m.\u001B[39;49m\u001B[43mitem\u001B[49m(\u001B[38;5;241m0\u001B[39m) \u001B[38;5;241m!=\u001B[39m \u001B[38;5;241m0\u001B[39m:\n\u001B[0;32m     50\u001B[0m     \u001B[38;5;28meval\u001B[39m \u001B[38;5;241m=\u001B[39m arr\u001B[38;5;241m.\u001B[39mitem(\u001B[38;5;241m0\u001B[39m)\n\u001B[0;32m     51\u001B[0m     \u001B[38;5;66;03m# Linea 1, 2, 3\u001B[39;00m\n",
      "\u001B[1;31mAttributeError\u001B[0m: 'list' object has no attribute 'item'"
     ]
    }
   ],
   "source": [
    "clase = TableroAutomatico([1, 1, 1, 2, 2, 1, 0, 0, 0])"
   ],
   "metadata": {
    "collapsed": false
   }
  },
  {
   "cell_type": "markdown",
   "source": [
    "# Dos ganadores en una configuración"
   ],
   "metadata": {
    "collapsed": false
   }
  },
  {
   "cell_type": "code",
   "execution_count": 7,
   "outputs": [
    {
     "ename": "AttributeError",
     "evalue": "'list' object has no attribute 'item'",
     "output_type": "error",
     "traceback": [
      "\u001B[1;31m---------------------------------------------------------------------------\u001B[0m",
      "\u001B[1;31mAttributeError\u001B[0m                            Traceback (most recent call last)",
      "Input \u001B[1;32mIn [7]\u001B[0m, in \u001B[0;36m<cell line: 1>\u001B[1;34m()\u001B[0m\n\u001B[1;32m----> 1\u001B[0m clase \u001B[38;5;241m=\u001B[39m \u001B[43mTableroAutomatico\u001B[49m\u001B[43m(\u001B[49m\u001B[43m[\u001B[49m\u001B[38;5;241;43m1\u001B[39;49m\u001B[43m,\u001B[49m\u001B[43m \u001B[49m\u001B[38;5;241;43m1\u001B[39;49m\u001B[43m,\u001B[49m\u001B[43m \u001B[49m\u001B[38;5;241;43m1\u001B[39;49m\u001B[43m,\u001B[49m\u001B[43m \u001B[49m\u001B[38;5;241;43m2\u001B[39;49m\u001B[43m,\u001B[49m\u001B[43m \u001B[49m\u001B[38;5;241;43m2\u001B[39;49m\u001B[43m,\u001B[49m\u001B[43m \u001B[49m\u001B[38;5;241;43m2\u001B[39;49m\u001B[43m,\u001B[49m\u001B[43m \u001B[49m\u001B[38;5;241;43m0\u001B[39;49m\u001B[43m,\u001B[49m\u001B[43m \u001B[49m\u001B[38;5;241;43m0\u001B[39;49m\u001B[43m,\u001B[49m\u001B[43m \u001B[49m\u001B[38;5;241;43m0\u001B[39;49m\u001B[43m]\u001B[49m\u001B[43m)\u001B[49m\n",
      "Input \u001B[1;32mIn [4]\u001B[0m, in \u001B[0;36mTableroAutomatico.__init__\u001B[1;34m(self, configuracion)\u001B[0m\n\u001B[0;32m      9\u001B[0m \u001B[38;5;28;01melse\u001B[39;00m:\n\u001B[0;32m     10\u001B[0m     \u001B[38;5;28;01mif\u001B[39;00m \u001B[38;5;28mself\u001B[39m\u001B[38;5;241m.\u001B[39m__validar(configuracion):\n\u001B[1;32m---> 11\u001B[0m         ganador \u001B[38;5;241m=\u001B[39m \u001B[38;5;28;43mself\u001B[39;49m\u001B[38;5;241;43m.\u001B[39;49m\u001B[43m__definirGanador\u001B[49m\u001B[43m(\u001B[49m\u001B[43m)\u001B[49m\n\u001B[0;32m     13\u001B[0m         \u001B[38;5;28;01mif\u001B[39;00m \u001B[38;5;28mself\u001B[39m\u001B[38;5;241m.\u001B[39mturnos \u001B[38;5;241m<\u001B[39m \u001B[38;5;241m9\u001B[39m:\n\u001B[0;32m     14\u001B[0m             \u001B[38;5;28;01mif\u001B[39;00m ganador \u001B[38;5;241m!=\u001B[39m \u001B[38;5;241m0\u001B[39m:\n",
      "Input \u001B[1;32mIn [4]\u001B[0m, in \u001B[0;36mTableroAutomatico.__definirGanador\u001B[1;34m(self)\u001B[0m\n\u001B[0;32m     46\u001B[0m arr \u001B[38;5;241m=\u001B[39m \u001B[38;5;28mself\u001B[39m\u001B[38;5;241m.\u001B[39mtablero\n\u001B[0;32m     48\u001B[0m ganador \u001B[38;5;241m=\u001B[39m \u001B[38;5;241m-\u001B[39m\u001B[38;5;241m1\u001B[39m\n\u001B[1;32m---> 49\u001B[0m \u001B[38;5;28;01mif\u001B[39;00m \u001B[43marr\u001B[49m\u001B[38;5;241;43m.\u001B[39;49m\u001B[43mitem\u001B[49m(\u001B[38;5;241m0\u001B[39m) \u001B[38;5;241m!=\u001B[39m \u001B[38;5;241m0\u001B[39m:\n\u001B[0;32m     50\u001B[0m     \u001B[38;5;28meval\u001B[39m \u001B[38;5;241m=\u001B[39m arr\u001B[38;5;241m.\u001B[39mitem(\u001B[38;5;241m0\u001B[39m)\n\u001B[0;32m     51\u001B[0m     \u001B[38;5;66;03m# Linea 1, 2, 3\u001B[39;00m\n",
      "\u001B[1;31mAttributeError\u001B[0m: 'list' object has no attribute 'item'"
     ]
    }
   ],
   "source": [
    "clase = TableroAutomatico([1, 1, 1, 2, 2, 2, 0, 0, 0])"
   ],
   "metadata": {
    "collapsed": false
   }
  },
  {
   "cell_type": "markdown",
   "source": [
    "# Un jugador ganando dos veces"
   ],
   "metadata": {
    "collapsed": false
   }
  },
  {
   "cell_type": "code",
   "execution_count": 8,
   "outputs": [
    {
     "ename": "AttributeError",
     "evalue": "'list' object has no attribute 'item'",
     "output_type": "error",
     "traceback": [
      "\u001B[1;31m---------------------------------------------------------------------------\u001B[0m",
      "\u001B[1;31mAttributeError\u001B[0m                            Traceback (most recent call last)",
      "Input \u001B[1;32mIn [8]\u001B[0m, in \u001B[0;36m<cell line: 1>\u001B[1;34m()\u001B[0m\n\u001B[1;32m----> 1\u001B[0m clase \u001B[38;5;241m=\u001B[39m \u001B[43mTableroAutomatico\u001B[49m\u001B[43m(\u001B[49m\u001B[43m[\u001B[49m\u001B[38;5;241;43m1\u001B[39;49m\u001B[43m,\u001B[49m\u001B[43m \u001B[49m\u001B[38;5;241;43m1\u001B[39;49m\u001B[43m,\u001B[49m\u001B[43m \u001B[49m\u001B[38;5;241;43m1\u001B[39;49m\u001B[43m,\u001B[49m\u001B[43m \u001B[49m\u001B[38;5;241;43m1\u001B[39;49m\u001B[43m,\u001B[49m\u001B[43m \u001B[49m\u001B[38;5;241;43m2\u001B[39;49m\u001B[43m,\u001B[49m\u001B[43m \u001B[49m\u001B[38;5;241;43m2\u001B[39;49m\u001B[43m,\u001B[49m\u001B[43m \u001B[49m\u001B[38;5;241;43m1\u001B[39;49m\u001B[43m,\u001B[49m\u001B[43m \u001B[49m\u001B[38;5;241;43m2\u001B[39;49m\u001B[43m,\u001B[49m\u001B[43m \u001B[49m\u001B[38;5;241;43m2\u001B[39;49m\u001B[43m]\u001B[49m\u001B[43m)\u001B[49m\n",
      "Input \u001B[1;32mIn [4]\u001B[0m, in \u001B[0;36mTableroAutomatico.__init__\u001B[1;34m(self, configuracion)\u001B[0m\n\u001B[0;32m      9\u001B[0m \u001B[38;5;28;01melse\u001B[39;00m:\n\u001B[0;32m     10\u001B[0m     \u001B[38;5;28;01mif\u001B[39;00m \u001B[38;5;28mself\u001B[39m\u001B[38;5;241m.\u001B[39m__validar(configuracion):\n\u001B[1;32m---> 11\u001B[0m         ganador \u001B[38;5;241m=\u001B[39m \u001B[38;5;28;43mself\u001B[39;49m\u001B[38;5;241;43m.\u001B[39;49m\u001B[43m__definirGanador\u001B[49m\u001B[43m(\u001B[49m\u001B[43m)\u001B[49m\n\u001B[0;32m     13\u001B[0m         \u001B[38;5;28;01mif\u001B[39;00m \u001B[38;5;28mself\u001B[39m\u001B[38;5;241m.\u001B[39mturnos \u001B[38;5;241m<\u001B[39m \u001B[38;5;241m9\u001B[39m:\n\u001B[0;32m     14\u001B[0m             \u001B[38;5;28;01mif\u001B[39;00m ganador \u001B[38;5;241m!=\u001B[39m \u001B[38;5;241m0\u001B[39m:\n",
      "Input \u001B[1;32mIn [4]\u001B[0m, in \u001B[0;36mTableroAutomatico.__definirGanador\u001B[1;34m(self)\u001B[0m\n\u001B[0;32m     46\u001B[0m arr \u001B[38;5;241m=\u001B[39m \u001B[38;5;28mself\u001B[39m\u001B[38;5;241m.\u001B[39mtablero\n\u001B[0;32m     48\u001B[0m ganador \u001B[38;5;241m=\u001B[39m \u001B[38;5;241m-\u001B[39m\u001B[38;5;241m1\u001B[39m\n\u001B[1;32m---> 49\u001B[0m \u001B[38;5;28;01mif\u001B[39;00m \u001B[43marr\u001B[49m\u001B[38;5;241;43m.\u001B[39;49m\u001B[43mitem\u001B[49m(\u001B[38;5;241m0\u001B[39m) \u001B[38;5;241m!=\u001B[39m \u001B[38;5;241m0\u001B[39m:\n\u001B[0;32m     50\u001B[0m     \u001B[38;5;28meval\u001B[39m \u001B[38;5;241m=\u001B[39m arr\u001B[38;5;241m.\u001B[39mitem(\u001B[38;5;241m0\u001B[39m)\n\u001B[0;32m     51\u001B[0m     \u001B[38;5;66;03m# Linea 1, 2, 3\u001B[39;00m\n",
      "\u001B[1;31mAttributeError\u001B[0m: 'list' object has no attribute 'item'"
     ]
    }
   ],
   "source": [
    "clase = TableroAutomatico([1, 1, 1, 1, 2, 2, 1, 2, 2])"
   ],
   "metadata": {
    "collapsed": false
   }
  },
  {
   "cell_type": "markdown",
   "source": [
    "# Juego incompleto"
   ],
   "metadata": {
    "collapsed": false
   }
  },
  {
   "cell_type": "code",
   "execution_count": 9,
   "outputs": [
    {
     "ename": "AttributeError",
     "evalue": "'list' object has no attribute 'item'",
     "output_type": "error",
     "traceback": [
      "\u001B[1;31m---------------------------------------------------------------------------\u001B[0m",
      "\u001B[1;31mAttributeError\u001B[0m                            Traceback (most recent call last)",
      "Input \u001B[1;32mIn [9]\u001B[0m, in \u001B[0;36m<cell line: 1>\u001B[1;34m()\u001B[0m\n\u001B[1;32m----> 1\u001B[0m clase \u001B[38;5;241m=\u001B[39m \u001B[43mTableroAutomatico\u001B[49m\u001B[43m(\u001B[49m\u001B[43m[\u001B[49m\u001B[38;5;241;43m1\u001B[39;49m\u001B[43m,\u001B[49m\u001B[43m \u001B[49m\u001B[38;5;241;43m1\u001B[39;49m\u001B[43m,\u001B[49m\u001B[43m \u001B[49m\u001B[38;5;241;43m2\u001B[39;49m\u001B[43m,\u001B[49m\u001B[43m \u001B[49m\u001B[38;5;241;43m1\u001B[39;49m\u001B[43m,\u001B[49m\u001B[43m \u001B[49m\u001B[38;5;241;43m0\u001B[39;49m\u001B[43m,\u001B[49m\u001B[43m \u001B[49m\u001B[38;5;241;43m2\u001B[39;49m\u001B[43m,\u001B[49m\u001B[43m \u001B[49m\u001B[38;5;241;43m0\u001B[39;49m\u001B[43m,\u001B[49m\u001B[43m \u001B[49m\u001B[38;5;241;43m0\u001B[39;49m\u001B[43m,\u001B[49m\u001B[43m \u001B[49m\u001B[38;5;241;43m0\u001B[39;49m\u001B[43m]\u001B[49m\u001B[43m)\u001B[49m\n",
      "Input \u001B[1;32mIn [4]\u001B[0m, in \u001B[0;36mTableroAutomatico.__init__\u001B[1;34m(self, configuracion)\u001B[0m\n\u001B[0;32m      9\u001B[0m \u001B[38;5;28;01melse\u001B[39;00m:\n\u001B[0;32m     10\u001B[0m     \u001B[38;5;28;01mif\u001B[39;00m \u001B[38;5;28mself\u001B[39m\u001B[38;5;241m.\u001B[39m__validar(configuracion):\n\u001B[1;32m---> 11\u001B[0m         ganador \u001B[38;5;241m=\u001B[39m \u001B[38;5;28;43mself\u001B[39;49m\u001B[38;5;241;43m.\u001B[39;49m\u001B[43m__definirGanador\u001B[49m\u001B[43m(\u001B[49m\u001B[43m)\u001B[49m\n\u001B[0;32m     13\u001B[0m         \u001B[38;5;28;01mif\u001B[39;00m \u001B[38;5;28mself\u001B[39m\u001B[38;5;241m.\u001B[39mturnos \u001B[38;5;241m<\u001B[39m \u001B[38;5;241m9\u001B[39m:\n\u001B[0;32m     14\u001B[0m             \u001B[38;5;28;01mif\u001B[39;00m ganador \u001B[38;5;241m!=\u001B[39m \u001B[38;5;241m0\u001B[39m:\n",
      "Input \u001B[1;32mIn [4]\u001B[0m, in \u001B[0;36mTableroAutomatico.__definirGanador\u001B[1;34m(self)\u001B[0m\n\u001B[0;32m     46\u001B[0m arr \u001B[38;5;241m=\u001B[39m \u001B[38;5;28mself\u001B[39m\u001B[38;5;241m.\u001B[39mtablero\n\u001B[0;32m     48\u001B[0m ganador \u001B[38;5;241m=\u001B[39m \u001B[38;5;241m-\u001B[39m\u001B[38;5;241m1\u001B[39m\n\u001B[1;32m---> 49\u001B[0m \u001B[38;5;28;01mif\u001B[39;00m \u001B[43marr\u001B[49m\u001B[38;5;241;43m.\u001B[39;49m\u001B[43mitem\u001B[49m(\u001B[38;5;241m0\u001B[39m) \u001B[38;5;241m!=\u001B[39m \u001B[38;5;241m0\u001B[39m:\n\u001B[0;32m     50\u001B[0m     \u001B[38;5;28meval\u001B[39m \u001B[38;5;241m=\u001B[39m arr\u001B[38;5;241m.\u001B[39mitem(\u001B[38;5;241m0\u001B[39m)\n\u001B[0;32m     51\u001B[0m     \u001B[38;5;66;03m# Linea 1, 2, 3\u001B[39;00m\n",
      "\u001B[1;31mAttributeError\u001B[0m: 'list' object has no attribute 'item'"
     ]
    }
   ],
   "source": [
    "clase = TableroAutomatico([1, 1, 2, 1, 0, 2, 0, 0, 0])"
   ],
   "metadata": {
    "collapsed": false
   }
  },
  {
   "cell_type": "markdown",
   "source": [
    "# Generando tableros\n",
    "Es hora de comenzar a generar los tableros y las diferentes configuraciones que se pueden presentar. Comenzaremos con la\n",
    " configuración de tableros más pequeña y ver como se comporta.\n",
    "\n",
    "En la parte de conteo vimos que las configuraciones más pequeñas son cuando el turno se ha prolongado hasta el 9, así que\n",
    " generaremos de manera aleatoria un 1 o un 2 en cada posición del arreglo.\n",
    "\n",
    "Comenzaremos con 100 ejecuciones y veremos cuantas configuraciones son aptas para el validador."
   ],
   "metadata": {
    "collapsed": false
   }
  },
  {
   "cell_type": "code",
   "execution_count": 10,
   "outputs": [
    {
     "name": "stdout",
     "output_type": "stream",
     "text": [
      "Fallaron 100 Tableros\n",
      "Se aceptaron 0 Tableros\n",
      "\n"
     ]
    }
   ],
   "source": [
    "import random as rn\n",
    "\n",
    "arr = []\n",
    "fallidos = 0\n",
    "\n",
    "for i in range(100):\n",
    "    tablero = []\n",
    "    for x in range(9):\n",
    "        tablero.append(rn.randint(1, 2))\n",
    "    try:\n",
    "        clase = TableroAutomatico(tablero)\n",
    "        arr.append(clase)\n",
    "    except:\n",
    "        if ValueError:\n",
    "            fallidos += 1\n",
    "\n",
    "msg = f\"Fallaron {fallidos} Tableros\\n\" \\\n",
    "      f\"Se aceptaron {len(arr)} Tableros\\n\"\n",
    "print(msg)\n",
    "\n",
    "if len(arr) >= 10:\n",
    "    for x in range(10):\n",
    "        print(arr[x])"
   ],
   "metadata": {
    "collapsed": false
   }
  },
  {
   "cell_type": "markdown",
   "source": [
    "El metodo de generación es demasiado impreciso o las generaciones son muy pocas, probemos con 1000 generaciones."
   ],
   "metadata": {
    "collapsed": false
   }
  },
  {
   "cell_type": "code",
   "execution_count": 11,
   "outputs": [
    {
     "name": "stdout",
     "output_type": "stream",
     "text": [
      "[1, 2, 2, 2, 1, 2, 2, 1, 2]\n",
      "[2, 1, 2, 1, 2, 1, 2, 1, 1]\n",
      "[2, 1, 2, 2, 1, 2, 1, 2, 2]\n",
      "[1, 1, 2, 1, 1, 1, 2, 1, 1]\n",
      "[1, 1, 2, 2, 2, 1, 2, 2, 1]\n",
      "[2, 1, 2, 1, 1, 2, 2, 1, 1]\n",
      "[2, 1, 2, 2, 2, 1, 2, 1, 2]\n",
      "[1, 2, 2, 1, 2, 2, 2, 1, 2]\n",
      "[1, 2, 1, 1, 1, 1, 1, 1, 1]\n",
      "[2, 1, 1, 2, 1, 1, 2, 1, 2]\n",
      "Fallaron 1000 Tableros\n",
      "Se aceptaron 0 Tableros\n",
      "\n"
     ]
    }
   ],
   "source": [
    "arr = []\n",
    "fallidos = 0\n",
    "\n",
    "for i in range(1000):\n",
    "    tablero = []\n",
    "    for x in range(9):\n",
    "        tablero.append(rn.randint(1, 2))\n",
    "    try:\n",
    "        clase = TableroAutomatico(tablero)\n",
    "        arr.append(clase)\n",
    "    except:\n",
    "        if(i < 10):\n",
    "            print(tablero)\n",
    "        if ValueError:\n",
    "            fallidos += 1\n",
    "\n",
    "msg = f\"Fallaron {fallidos} Tableros\\n\" \\\n",
    "      f\"Se aceptaron {len(arr)} Tableros\\n\"\n",
    "print(msg)\n",
    "\n",
    "if len(arr) >= 10:\n",
    "    for x in range(10):\n",
    "        print(arr[x])"
   ],
   "metadata": {
    "collapsed": false
   }
  },
  {
   "cell_type": "markdown",
   "source": [
    "El método de generación es demasiado impreciso por el método de aleatoriedad, necesitamos casos donde existan 4 circulos\n",
    " (__O__) y 5 equis (__X__). Por lo tanto programemos algo similar para generar dichos casos."
   ],
   "metadata": {
    "collapsed": false
   }
  },
  {
   "cell_type": "code",
   "execution_count": 12,
   "outputs": [
    {
     "name": "stdout",
     "output_type": "stream",
     "text": [
      "[2, 1, 2, 1, 2, 1, 1, 1, 2]\n",
      "[1, 2, 1, 2, 1, 2, 1, 1, 2]\n",
      "[1, 2, 2, 2, 1, 1, 1, 2, 1]\n",
      "[2, 1, 1, 2, 1, 2, 1, 1, 2]\n",
      "[1, 1, 2, 2, 1, 1, 2, 1, 2]\n",
      "[1, 1, 2, 2, 1, 1, 1, 2, 2]\n",
      "[1, 2, 2, 1, 1, 2, 2, 1, 1]\n",
      "[1, 2, 2, 1, 2, 1, 1, 2, 1]\n",
      "[1, 2, 2, 1, 2, 1, 1, 1, 2]\n",
      "[1, 1, 2, 1, 2, 1, 1, 2, 2]\n",
      "Fallaron 1000 Tableros\n",
      "Se aceptaron 0 Tableros\n",
      "\n"
     ]
    }
   ],
   "source": [
    "arr = []\n",
    "fallidos = 0\n",
    "\n",
    "for i in range(1000):\n",
    "    tablero = [0,0,0,0,0,0,0,0,0]\n",
    "    for x in range(4):\n",
    "        terminado = False\n",
    "        while not terminado:\n",
    "            pos = rn.randint(0,8)\n",
    "            if tablero[pos] == 0:\n",
    "                tablero[pos] = 2\n",
    "                terminado = True\n",
    "    for x in range(5):\n",
    "        terminado = False\n",
    "        while not terminado:\n",
    "            pos = rn.randint(0,8)\n",
    "            if tablero[pos] == 0:\n",
    "                tablero[pos] = 1\n",
    "                terminado = True\n",
    "    try:\n",
    "        clase = TableroAutomatico(tablero)\n",
    "        arr.append(clase)\n",
    "    except:\n",
    "        if i < 10:\n",
    "            print(tablero)\n",
    "        if ValueError:\n",
    "            fallidos += 1\n",
    "\n",
    "msg = f\"Fallaron {fallidos} Tableros\\n\" \\\n",
    "      f\"Se aceptaron {len(arr)} Tableros\\n\"\n",
    "print(msg)\n",
    "\n",
    "if len(arr) >= 10:\n",
    "    for x in range(10):\n",
    "        print(arr[x])"
   ],
   "metadata": {
    "collapsed": false
   }
  },
  {
   "cell_type": "markdown",
   "source": [
    "Según los calculos de permutaciones con repeticiones $$ {PR}_9^{5,4} = \\frac{9!}{5! . 4!} = 126 $$ En algún momento debimos toparnos con una configuración válida. Así que lo que puede estar pasando es que los tableros inválidos se repiten, haciendo que tengamos que hacer muchas vueltas para encontrarlos. Probemos con otro método de almacenamiento y comparación."
   ],
   "metadata": {
    "collapsed": false
   }
  },
  {
   "cell_type": "code",
   "execution_count": 13,
   "outputs": [
    {
     "name": "stdout",
     "output_type": "stream",
     "text": [
      "[2, 1, 1, 1, 2, 2, 1, 1, 2]\n"
     ]
    }
   ],
   "source": [
    "from typing import List\n",
    "def generarConfiguracion(equis: int, circulos: int, configuracion: List[int] = None) -> List[int]:\n",
    "    if configuracion is None:\n",
    "        tablero = [ 0, 0, 0, 0, 0, 0, 0, 0, 0]\n",
    "    elif len(configuracion) != 9:\n",
    "            raise ValueError(\"Las configuraciones deben ser de 9 de longitud\")\n",
    "    else:\n",
    "        tablero = configuracion\n",
    "\n",
    "\n",
    "    for x in range(circulos):\n",
    "        terminado = False\n",
    "        while not terminado:\n",
    "            pos = rn.randint(0,8)\n",
    "            if tablero[pos] == 0:\n",
    "                tablero[pos] = 2\n",
    "                terminado = True\n",
    "    for x in range(equis):\n",
    "        terminado = False\n",
    "        while not terminado:\n",
    "            pos = rn.randint(0,8)\n",
    "            if tablero[pos] == 0:\n",
    "                tablero[pos] = 1\n",
    "                terminado = True\n",
    "\n",
    "    return tablero\n",
    "\n",
    "print(generarConfiguracion(5, 4))"
   ],
   "metadata": {
    "collapsed": false
   }
  },
  {
   "cell_type": "code",
   "execution_count": 27,
   "outputs": [
    {
     "name": "stdout",
     "output_type": "stream",
     "text": [
      "Fallaron 58 Tableros\n",
      "Se aceptaron 68 Tableros\n",
      "Se dieron 652 iteraciones\n",
      "1.- El tablero es: [1 2 2 1 2 1 2 1 1]\n",
      "La cantidad de turnos fue: 9\n",
      "Ganaron los O\n",
      "2.- El tablero es: [1 2 1 1 2 2 1 1 2]\n",
      "La cantidad de turnos fue: 9\n",
      "Ganaron las X\n",
      "3.- El tablero es: [2 1 2 1 1 2 1 2 1]\n",
      "La cantidad de turnos fue: 9\n",
      "El resultado fue un empate\n",
      "4.- El tablero es: [1 2 1 2 1 1 1 2 2]\n",
      "La cantidad de turnos fue: 9\n",
      "Ganaron las X\n",
      "5.- El tablero es: [2 1 2 2 1 1 1 2 1]\n",
      "La cantidad de turnos fue: 9\n",
      "El resultado fue un empate\n",
      "\n"
     ]
    }
   ],
   "source": [
    "arr = []\n",
    "fallidos = []\n",
    "vueltas = 0\n",
    "\n",
    "while (len(arr) + len(fallidos)) < 126 :\n",
    "\n",
    "    conf = np.array(generarConfiguracion(5,4))\n",
    "\n",
    "    evaluado = False\n",
    "\n",
    "    if len(fallidos) != 0:\n",
    "        for x in fallidos:\n",
    "            if np.allclose(x, conf):\n",
    "                evaluado = True\n",
    "                break\n",
    "    if len(arr) != 0:\n",
    "        for x in arr:\n",
    "            if np.allclose(x.tablero, conf):\n",
    "                evaluado = True\n",
    "                break\n",
    "\n",
    "    try:\n",
    "        if not evaluado:\n",
    "            clase = TableroAutomatico(conf)\n",
    "            arr.append(clase)\n",
    "    except:\n",
    "        if ValueError:\n",
    "            fallidos.append(conf)\n",
    "    vueltas += 1\n",
    "\n",
    "msg = f\"Fallaron {len(fallidos)} Tableros\\n\" \\\n",
    "      f\"Se aceptaron {len(arr)} Tableros\\n\" \\\n",
    "      f\"Se dieron {vueltas} iteraciones\\n\"\n",
    "if len(arr) > 0:\n",
    "    for i, x in enumerate(arr):\n",
    "        if i < 5:\n",
    "            msg += f\"{i + 1}.- {x}\"\n",
    "        else:\n",
    "            break\n",
    "print(msg)"
   ],
   "metadata": {
    "collapsed": false
   }
  },
  {
   "cell_type": "markdown",
   "source": [
    "Dependemos bastante de la suerte pero en muchos de los casos las iteraciones necesarias para conseguir todos los casos son menores a 1000"
   ],
   "metadata": {
    "collapsed": false
   }
  },
  {
   "cell_type": "markdown",
   "source": [
    "# Proceso de conseguir configuraciones opuestas."
   ],
   "metadata": {
    "collapsed": false
   }
  },
  {
   "cell_type": "code",
   "execution_count": 28,
   "outputs": [
    {
     "name": "stdout",
     "output_type": "stream",
     "text": [
      "configuración original: [1, 1, 1, 2, 1, 2, 1, 2, 1]\n",
      "configuración opuesta: [2, 2, 2, 1, 2, 1, 2, 1, 2]\n"
     ]
    }
   ],
   "source": [
    "def configuracionOpuesta(configuracion):\n",
    "    conf = [ 0, 0, 0, 0, 0, 0, 0, 0, 0 ]\n",
    "\n",
    "    for d in range(len(configuracion)):\n",
    "        if configuracion.item(d) == 1:\n",
    "            conf[d] = 2\n",
    "        elif configuracion.item(d) == 2:\n",
    "            conf[d] = 1\n",
    "    return conf\n",
    "\n",
    "confor = [1, 1, 1, 2, 1, 2, 1, 2, 1 ]\n",
    "\n",
    "print(f\"configuración original: {confor}\\n\"\n",
    "      f\"configuración opuesta: {configuracionOpuesta(np.array(confor))}\")"
   ],
   "metadata": {
    "collapsed": false
   }
  },
  {
   "cell_type": "code",
   "execution_count": 29,
   "outputs": [
    {
     "name": "stdout",
     "output_type": "stream",
     "text": [
      "1.- El tablero es: [1 2 2 1 2 1 2 1 1]\n",
      "La cantidad de turnos fue: 9\n",
      "Ganaron los O\n",
      "2.- El tablero es: [1 2 1 1 2 2 1 1 2]\n",
      "La cantidad de turnos fue: 9\n",
      "Ganaron las X\n",
      "3.- El tablero es: [2 1 2 1 1 2 1 2 1]\n",
      "La cantidad de turnos fue: 9\n",
      "El resultado fue un empate\n",
      "4.- El tablero es: [1 2 1 2 1 1 1 2 2]\n",
      "La cantidad de turnos fue: 9\n",
      "Ganaron las X\n",
      "5.- El tablero es: [2 1 2 2 1 1 1 2 1]\n",
      "La cantidad de turnos fue: 9\n",
      "El resultado fue un empate\n",
      "\n"
     ]
    }
   ],
   "source": [
    "new = []\n",
    "for x in arr:\n",
    "\n",
    "    conf = configuracionOpuesta(x.tablero)\n",
    "\n",
    "    new.append(TableroAutomatico(np.array(conf)))\n",
    "\n",
    "arr.extend(new)\n",
    "\n",
    "msg = f\"\"\n",
    "\n",
    "for i, x in enumerate(arr):\n",
    "    if i < 5:\n",
    "        msg += f\"{i + 1}.- {x}\"\n",
    "    else:\n",
    "        break\n",
    "print(msg)"
   ],
   "metadata": {
    "collapsed": false
   }
  },
  {
   "cell_type": "markdown",
   "source": [
    "# Generación de configuraciones con turno 8\n",
    "\n",
    "El conteo de posibles permutaciones nos dice que:\n",
    "$$ {PR}_9^{1,4,4} = \\frac{9!}{1! . 4! . 4!} = 630 $$"
   ],
   "metadata": {
    "collapsed": false
   }
  },
  {
   "cell_type": "code",
   "execution_count": 30,
   "outputs": [
    {
     "name": "stdout",
     "output_type": "stream",
     "text": [
      "Fallaron 294 Tableros\n",
      "Se aceptaron 336 Tableros\n",
      "Se dieron 4986 iteraciones\n",
      "\n"
     ]
    }
   ],
   "source": [
    "arr2 = []\n",
    "fallidos = []\n",
    "vueltas = 0\n",
    "\n",
    "while (len(arr2) + len(fallidos)) < 630 :\n",
    "\n",
    "    conf = np.array(generarConfiguracion(4, 4))\n",
    "\n",
    "    evaluado = False\n",
    "\n",
    "    if len(fallidos) != 0:\n",
    "        for x in fallidos:\n",
    "            if np.allclose(x, conf):\n",
    "                evaluado = True\n",
    "                break\n",
    "    if len(arr2) != 0:\n",
    "        for x in arr2:\n",
    "            if np.allclose(x.tablero, conf):\n",
    "                evaluado = True\n",
    "                break\n",
    "\n",
    "    try:\n",
    "        if not evaluado:\n",
    "            clase = TableroAutomatico(conf)\n",
    "            arr2.append(clase)\n",
    "    except:\n",
    "        if ValueError:\n",
    "            fallidos.append(conf)\n",
    "    vueltas += 1\n",
    "\n",
    "msg = f\"Fallaron {len(fallidos)} Tableros\\n\" \\\n",
    "      f\"Se aceptaron {len(arr2)} Tableros\\n\" \\\n",
    "      f\"Se dieron {vueltas} iteraciones\\n\"\n",
    "# if len(arr) > 0:\n",
    "#     for x in arr:\n",
    "#         msg += f\"{x}\"\n",
    "print(msg)"
   ],
   "metadata": {
    "collapsed": false
   }
  },
  {
   "cell_type": "markdown",
   "source": [
    "Para 630 datos necesarios aún es viable generar las iteraciones de este tipo, pero, para configuraciones con más de 1000 elementos ya no es tan viable por la cantidad de procesos que necesita.\n",
    "\n",
    "Así que siguiendo con técnicas de conteo, puesto que dentro de las configuraciones con 5 turnos o más, pero, menos de 9 turnos nos interesan aquellas que resulten ganadoras podemos bloquear las líneas ganadoras y solo mover los 6 elementos restantes\n",
    "\n",
    "La fórmula para el conteo es la siguiente con 3 equis (__X__), 2 ciruclos (__O__) y 4 espacios en blanco sería la siguiente:\n",
    "\n",
    "$$ {PR}_6^{2,4} = \\frac{6!}{2! . 4!} = 15 $$\n",
    "\n",
    "> Teniendo 8 configuraciones posibles\n",
    ">\n",
    ">       | X | X | X |         | X |   |   |         | X |   |   |\n",
    ">       |---|---|---|         |---|---|---|         |---|---|---|\n",
    ">       |   |   |   |         | X |   |   |         |   | X |   |\n",
    ">       |---|---|---|         |---|---|---|         |---|---|---|\n",
    ">       |   |   |   |         | X |   |   |         |   |   | X |\n",
    ">\n",
    ">       |   |   |   |         |   |   | X |         |   |   | X |\n",
    ">       |---|---|---|         |---|---|---|         |---|---|---|\n",
    ">       |   |   |   |         |   |   | X |         |   | X |   |\n",
    ">       |---|---|---|         |---|---|---|         |---|---|---|\n",
    ">       | X | X | X |         |   |   | X |         | X |   |   |\n",
    ">\n",
    ">       |   |   |   |         |   | X |   |\n",
    ">       |---|---|---|         |---|---|---|\n",
    ">       | X | X | X |         |   | X |   |\n",
    ">       |---|---|---|         |---|---|---|\n",
    ">       |   |   |   |         |   | X |   |\n",
    ">\n",
    "> nos da 120 configuraciones totales, si hacemos la configuración opuesta de cada una tendríamos un total de 240 configuraciones posibles divididos en segmentos de 15 lo cual es muchísimo menos costoso"
   ],
   "metadata": {
    "collapsed": false
   }
  },
  {
   "cell_type": "markdown",
   "source": [
    "## Tableros con 3 equis (__X__), 2 ciruclos (__O__) y 4 espacios"
   ],
   "metadata": {
    "collapsed": false
   }
  },
  {
   "cell_type": "code",
   "execution_count": 31,
   "outputs": [
    {
     "name": "stdout",
     "output_type": "stream",
     "text": [
      "Fallaron 0 Tableros\n",
      "Se aceptaron 240 Tableros\n",
      "Se dieron 120 iteraciones\n",
      "\n",
      "1.- El tablero es: [1 1 1 2 0 2 0 0 0]\n",
      "La cantidad de turnos fue: 5\n",
      "Ganaron las X\n",
      "\n",
      "2.- El tablero es: [1 1 1 2 2 0 0 0 0]\n",
      "La cantidad de turnos fue: 5\n",
      "Ganaron las X\n",
      "\n",
      "3.- El tablero es: [1 1 1 0 0 0 2 0 2]\n",
      "La cantidad de turnos fue: 5\n",
      "Ganaron las X\n",
      "\n",
      "4.- El tablero es: [1 1 1 2 0 2 0 0 0]\n",
      "La cantidad de turnos fue: 5\n",
      "Ganaron las X\n",
      "\n",
      "5.- El tablero es: [1 1 1 0 2 0 0 2 0]\n",
      "La cantidad de turnos fue: 5\n",
      "Ganaron las X\n",
      "\n"
     ]
    }
   ],
   "source": [
    "arr3 = []\n",
    "fallidos = []\n",
    "vueltas = 0\n",
    "esperados = 15\n",
    "\n",
    "\n",
    "while (len(arr3) + len(fallidos)) < esperados :\n",
    "    tablero = generarConfiguracion(0, 2, [1, 1, 1, 0, 0, 0, 0, 0, 0])\n",
    "\n",
    "    conf = np.array(tablero)\n",
    "\n",
    "    try:\n",
    "        if not evaluado:\n",
    "            clase = TableroAutomatico(conf)\n",
    "            arr3.append(clase)\n",
    "    except:\n",
    "        if ValueError:\n",
    "            fallidos.append(tablero)\n",
    "    vueltas += 1\n",
    "\n",
    "while (len(arr3) + len(fallidos)) < esperados * 2:\n",
    "    tablero = generarConfiguracion(0, 2, [0, 0, 0, 1, 1, 1, 0, 0, 0])\n",
    "\n",
    "    conf = np.array(tablero)\n",
    "\n",
    "    try:\n",
    "        if not evaluado:\n",
    "            clase = TableroAutomatico(conf)\n",
    "            arr3.append(clase)\n",
    "    except:\n",
    "        if ValueError:\n",
    "            fallidos.append(tablero)\n",
    "    vueltas += 1\n",
    "\n",
    "while (len(arr3) + len(fallidos)) < esperados * 3:\n",
    "    tablero = generarConfiguracion(0, 2, [0, 0, 0, 0, 0, 0, 1, 1, 1])\n",
    "\n",
    "    conf = np.array(tablero)\n",
    "\n",
    "    try:\n",
    "        if not evaluado:\n",
    "            clase = TableroAutomatico(conf)\n",
    "            arr3.append(clase)\n",
    "    except:\n",
    "        if ValueError:\n",
    "            fallidos.append(tablero)\n",
    "    vueltas += 1\n",
    "\n",
    "while (len(arr3) + len(fallidos)) < esperados * 4:\n",
    "    tablero = generarConfiguracion(0, 2, [1, 0, 0, 1, 0, 0, 1, 0, 0])\n",
    "\n",
    "    conf = np.array(tablero)\n",
    "\n",
    "    try:\n",
    "        if not evaluado:\n",
    "            clase = TableroAutomatico(conf)\n",
    "            arr3.append(clase)\n",
    "    except:\n",
    "        if ValueError:\n",
    "            fallidos.append(tablero)\n",
    "    vueltas += 1\n",
    "\n",
    "while (len(arr3) + len(fallidos)) < esperados * 5:\n",
    "    tablero = generarConfiguracion(0, 2, [0, 1, 0, 0, 1, 0, 0, 1, 0])\n",
    "\n",
    "    conf = np.array(tablero)\n",
    "\n",
    "    try:\n",
    "        if not evaluado:\n",
    "            clase = TableroAutomatico(conf)\n",
    "            arr3.append(clase)\n",
    "    except:\n",
    "        if ValueError:\n",
    "            fallidos.append(tablero)\n",
    "    vueltas += 1\n",
    "\n",
    "while (len(arr3) + len(fallidos)) < esperados * 6:\n",
    "    tablero = generarConfiguracion(0, 2, [0, 0, 1, 0, 0, 1, 0, 0, 1])\n",
    "\n",
    "    conf = np.array(tablero)\n",
    "\n",
    "    try:\n",
    "        if not evaluado:\n",
    "            clase = TableroAutomatico(conf)\n",
    "            arr3.append(clase)\n",
    "    except:\n",
    "        if ValueError:\n",
    "            fallidos.append(tablero)\n",
    "    vueltas += 1\n",
    "\n",
    "while (len(arr3) + len(fallidos)) < esperados * 7:\n",
    "    tablero = generarConfiguracion(0, 2, [1, 0, 0, 0, 1, 0, 0, 0, 1])\n",
    "\n",
    "    conf = np.array(tablero)\n",
    "\n",
    "    try:\n",
    "        if not evaluado:\n",
    "            clase = TableroAutomatico(conf)\n",
    "            arr3.append(clase)\n",
    "    except:\n",
    "        if ValueError:\n",
    "            fallidos.append(tablero)\n",
    "    vueltas += 1\n",
    "\n",
    "while (len(arr3) + len(fallidos)) < esperados * 8:\n",
    "    tablero = generarConfiguracion(0, 2, [0, 0, 1, 0, 1, 0, 1, 0, 0])\n",
    "\n",
    "    conf = np.array(tablero)\n",
    "\n",
    "    try:\n",
    "        if not evaluado:\n",
    "            clase = TableroAutomatico(conf)\n",
    "            arr3.append(clase)\n",
    "    except:\n",
    "        if ValueError:\n",
    "            fallidos.append(tablero)\n",
    "    vueltas += 1\n",
    "\n",
    "new = []\n",
    "\n",
    "for x in arr3:\n",
    "    new.append(TableroAutomatico(np.array(configuracionOpuesta(x.tablero))))\n",
    "\n",
    "arr3.extend(new)\n",
    "\n",
    "msg = f\"Fallaron {len(fallidos)} Tableros\\n\" \\\n",
    "      f\"Se aceptaron {len(arr3)} Tableros\\n\" \\\n",
    "      f\"Se dieron {vueltas} iteraciones\\n\"\n",
    "\n",
    "print(msg)\n",
    "\n",
    "for i, x in enumerate(arr3):\n",
    "    if i < 5:\n",
    "        print(f\"{i + 1}.- {x}\")\n",
    "    else:\n",
    "        break"
   ],
   "metadata": {
    "collapsed": false
   }
  },
  {
   "cell_type": "markdown",
   "source": [
    "## Tablero con 3 equis (__X__), 3 circulos (__O__) y 3 espacios\n",
    "\n",
    "$$ {PR}_6^{3,3} = \\frac{6!}{3!3!} = 20 $$"
   ],
   "metadata": {
    "collapsed": false
   }
  },
  {
   "cell_type": "code",
   "execution_count": 35,
   "outputs": [
    {
     "name": "stdout",
     "output_type": "stream",
     "text": [
      "Fallaron 8 Tableros\n",
      "Se aceptaron 304 Tableros\n",
      "Se dieron 160 iteraciones\n",
      "1.- El tablero es: [1 1 1 2 0 0 2 0 2]\n",
      "La cantidad de turnos fue: 6\n",
      "Ganaron las X\n",
      "2.- El tablero es: [1 1 1 2 0 2 2 0 0]\n",
      "La cantidad de turnos fue: 6\n",
      "Ganaron las X\n",
      "3.- El tablero es: [1 1 1 0 0 2 0 2 2]\n",
      "La cantidad de turnos fue: 6\n",
      "Ganaron las X\n",
      "4.- El tablero es: [1 1 1 2 2 0 0 0 2]\n",
      "La cantidad de turnos fue: 6\n",
      "Ganaron las X\n",
      "5.- El tablero es: [1 1 1 2 0 0 2 0 2]\n",
      "La cantidad de turnos fue: 6\n",
      "Ganaron las X\n",
      "\n"
     ]
    }
   ],
   "source": [
    "arr3 = []\n",
    "fallidos = []\n",
    "vueltas = 0\n",
    "esperados = 20\n",
    "\n",
    "\n",
    "while (len(arr3) + len(fallidos)) < esperados :\n",
    "    tablero = generarConfiguracion(0, 3, [1, 1, 1, 0, 0, 0, 0, 0, 0])\n",
    "\n",
    "    conf = np.array(tablero)\n",
    "\n",
    "    try:\n",
    "        if not evaluado:\n",
    "            clase = TableroAutomatico(conf)\n",
    "            arr3.append(clase)\n",
    "    except:\n",
    "        if ValueError:\n",
    "            fallidos.append(tablero)\n",
    "    vueltas += 1\n",
    "\n",
    "while (len(arr3) + len(fallidos)) < esperados * 2:\n",
    "    tablero = generarConfiguracion(0, 3, [0, 0, 0, 1, 1, 1, 0, 0, 0])\n",
    "\n",
    "    conf = np.array(tablero)\n",
    "\n",
    "    try:\n",
    "        if not evaluado:\n",
    "            clase = TableroAutomatico(conf)\n",
    "            arr3.append(clase)\n",
    "    except:\n",
    "        if ValueError:\n",
    "            fallidos.append(tablero)\n",
    "    vueltas += 1\n",
    "\n",
    "while (len(arr3) + len(fallidos)) < esperados * 3:\n",
    "    tablero = generarConfiguracion(0, 3, [0, 0, 0, 0, 0, 0, 1, 1, 1])\n",
    "\n",
    "    conf = np.array(tablero)\n",
    "\n",
    "    try:\n",
    "        if not evaluado:\n",
    "            clase = TableroAutomatico(conf)\n",
    "            arr3.append(clase)\n",
    "    except:\n",
    "        if ValueError:\n",
    "            fallidos.append(tablero)\n",
    "    vueltas += 1\n",
    "\n",
    "while (len(arr3) + len(fallidos)) < esperados * 4:\n",
    "    tablero = generarConfiguracion(0, 3, [1, 0, 0, 1, 0, 0, 1, 0, 0])\n",
    "\n",
    "    conf = np.array(tablero)\n",
    "\n",
    "    try:\n",
    "        if not evaluado:\n",
    "            clase = TableroAutomatico(conf)\n",
    "            arr3.append(clase)\n",
    "    except:\n",
    "        if ValueError:\n",
    "            fallidos.append(tablero)\n",
    "    vueltas += 1\n",
    "\n",
    "while (len(arr3) + len(fallidos)) < esperados * 5:\n",
    "    tablero = generarConfiguracion(0, 3, [0, 1, 0, 0, 1, 0, 0, 1, 0])\n",
    "\n",
    "    conf = np.array(tablero)\n",
    "\n",
    "    try:\n",
    "        if not evaluado:\n",
    "            clase = TableroAutomatico(conf)\n",
    "            arr3.append(clase)\n",
    "    except:\n",
    "        if ValueError:\n",
    "            fallidos.append(tablero)\n",
    "    vueltas += 1\n",
    "\n",
    "while (len(arr3) + len(fallidos)) < esperados * 6:\n",
    "    tablero = generarConfiguracion(0, 3, [0, 0, 1, 0, 0, 1, 0, 0, 1])\n",
    "\n",
    "    conf = np.array(tablero)\n",
    "\n",
    "    try:\n",
    "        if not evaluado:\n",
    "            clase = TableroAutomatico(conf)\n",
    "            arr3.append(clase)\n",
    "    except:\n",
    "        if ValueError:\n",
    "            fallidos.append(tablero)\n",
    "    vueltas += 1\n",
    "\n",
    "while (len(arr3) + len(fallidos)) < esperados * 7:\n",
    "    tablero = generarConfiguracion(0, 3, [1, 0, 0, 0, 1, 0, 0, 0, 1])\n",
    "\n",
    "    conf = np.array(tablero)\n",
    "\n",
    "    try:\n",
    "        if not evaluado:\n",
    "            clase = TableroAutomatico(conf)\n",
    "            arr3.append(clase)\n",
    "    except:\n",
    "        if ValueError:\n",
    "            fallidos.append(tablero)\n",
    "    vueltas += 1\n",
    "\n",
    "while (len(arr3) + len(fallidos)) < esperados * 8:\n",
    "    tablero = generarConfiguracion(0, 3, [0, 0, 1, 0, 1, 0, 1, 0, 0])\n",
    "\n",
    "    conf = np.array(tablero)\n",
    "\n",
    "    try:\n",
    "        if not evaluado:\n",
    "            clase = TableroAutomatico(conf)\n",
    "            arr3.append(clase)\n",
    "    except:\n",
    "        if ValueError:\n",
    "            fallidos.append(tablero)\n",
    "    vueltas += 1\n",
    "\n",
    "new = []\n",
    "\n",
    "for x in arr3:\n",
    "    new.append(TableroAutomatico(np.array(configuracionOpuesta(x.tablero))))\n",
    "\n",
    "arr3.extend(new)\n",
    "\n",
    "msg = f\"Fallaron {len(fallidos)} Tableros\\n\" \\\n",
    "      f\"Se aceptaron {len(arr3)} Tableros\\n\" \\\n",
    "      f\"Se dieron {vueltas} iteraciones\\n\"\n",
    "\n",
    "for i, x in enumerate(arr3):\n",
    "    if i < 5:\n",
    "        msg += f\"{i + 1}.- {x}\"\n",
    "    else:\n",
    "        break\n",
    "\n",
    "print(msg)"
   ],
   "metadata": {
    "collapsed": false
   }
  },
  {
   "cell_type": "markdown",
   "source": [
    "## Tablero con 4 equis (__X__), 3 circulos (__O__) y 2 espacios\n",
    "\n",
    "$$ {PR}_6^{1,3,3} = \\frac{6!}{1!3!2!} = 60 $$"
   ],
   "metadata": {
    "collapsed": false
   }
  },
  {
   "cell_type": "code",
   "execution_count": 37,
   "outputs": [
    {
     "name": "stdout",
     "output_type": "stream",
     "text": [
      "Fallaron 38 Tableros\n",
      "Se aceptaron 884 Tableros\n",
      "Se dieron 480 iteraciones\n",
      "\n",
      "Fallaron 38 Tableros\n",
      "Se aceptaron 884 Tableros\n",
      "Se dieron 480 iteraciones\n",
      "1.- El tablero es: [1 1 1 2 0 0 2 2 1]\n",
      "La cantidad de turnos fue: 7\n",
      "Ganaron las X\n",
      "2.- El tablero es: [1 1 1 2 0 2 2 0 1]\n",
      "La cantidad de turnos fue: 7\n",
      "Ganaron las X\n",
      "3.- El tablero es: [1 1 1 1 2 0 2 2 0]\n",
      "La cantidad de turnos fue: 7\n",
      "Ganaron las X\n",
      "4.- El tablero es: [1 1 1 2 2 0 1 0 2]\n",
      "La cantidad de turnos fue: 7\n",
      "Ganaron las X\n",
      "5.- El tablero es: [1 1 1 2 1 2 2 0 0]\n",
      "La cantidad de turnos fue: 7\n",
      "Ganaron las X\n",
      "\n"
     ]
    }
   ],
   "source": [
    "arr3 = []\n",
    "fallidos = []\n",
    "vueltas = 0\n",
    "esperados = 60\n",
    "\n",
    "\n",
    "while (len(arr3) + len(fallidos)) < esperados :\n",
    "    tablero = generarConfiguracion(1, 3, [1, 1, 1, 0, 0, 0, 0, 0, 0])\n",
    "\n",
    "    conf = np.array(tablero)\n",
    "\n",
    "\n",
    "\n",
    "    try:\n",
    "        if not evaluado:\n",
    "            clase = TableroAutomatico(conf)\n",
    "            arr3.append(clase)\n",
    "    except:\n",
    "        if ValueError:\n",
    "            fallidos.append(tablero)\n",
    "    vueltas += 1\n",
    "\n",
    "while (len(arr3) + len(fallidos)) < esperados * 2:\n",
    "    tablero = generarConfiguracion(1, 3, [0, 0, 0, 1, 1, 1, 0, 0, 0])\n",
    "\n",
    "    conf = np.array(tablero)\n",
    "\n",
    "    try:\n",
    "        if not evaluado:\n",
    "            clase = TableroAutomatico(conf)\n",
    "            arr3.append(clase)\n",
    "    except:\n",
    "        if ValueError:\n",
    "            fallidos.append(tablero)\n",
    "    vueltas += 1\n",
    "\n",
    "while (len(arr3) + len(fallidos)) < esperados * 3:\n",
    "    tablero = generarConfiguracion(1, 3, [0, 0, 0, 0, 0, 0, 1, 1, 1])\n",
    "\n",
    "    conf = np.array(tablero)\n",
    "\n",
    "    try:\n",
    "        if not evaluado:\n",
    "            clase = TableroAutomatico(conf)\n",
    "            arr3.append(clase)\n",
    "    except:\n",
    "        if ValueError:\n",
    "            fallidos.append(tablero)\n",
    "    vueltas += 1\n",
    "\n",
    "while (len(arr3) + len(fallidos)) < esperados * 4:\n",
    "    tablero = generarConfiguracion(1, 3, [1, 0, 0, 1, 0, 0, 1, 0, 0])\n",
    "\n",
    "    conf = np.array(tablero)\n",
    "\n",
    "    try:\n",
    "        if not evaluado:\n",
    "            clase = TableroAutomatico(conf)\n",
    "            arr3.append(clase)\n",
    "    except:\n",
    "        if ValueError:\n",
    "            fallidos.append(tablero)\n",
    "    vueltas += 1\n",
    "\n",
    "while (len(arr3) + len(fallidos)) < esperados * 5:\n",
    "    tablero = generarConfiguracion(1, 3, [0, 1, 0, 0, 1, 0, 0, 1, 0])\n",
    "\n",
    "    conf = np.array(tablero)\n",
    "\n",
    "    try:\n",
    "        if not evaluado:\n",
    "            clase = TableroAutomatico(conf)\n",
    "            arr3.append(clase)\n",
    "    except:\n",
    "        if ValueError:\n",
    "            fallidos.append(tablero)\n",
    "    vueltas += 1\n",
    "\n",
    "while (len(arr3) + len(fallidos)) < esperados * 6:\n",
    "    tablero = generarConfiguracion(1, 3, [0, 0, 1, 0, 0, 1, 0, 0, 1])\n",
    "\n",
    "    conf = np.array(tablero)\n",
    "\n",
    "    try:\n",
    "        if not evaluado:\n",
    "            clase = TableroAutomatico(conf)\n",
    "            arr3.append(clase)\n",
    "    except:\n",
    "        if ValueError:\n",
    "            fallidos.append(tablero)\n",
    "    vueltas += 1\n",
    "\n",
    "while (len(arr3) + len(fallidos)) < esperados * 7:\n",
    "    tablero = generarConfiguracion(1, 3, [1, 0, 0, 0, 1, 0, 0, 0, 1])\n",
    "\n",
    "    conf = np.array(tablero)\n",
    "\n",
    "    try:\n",
    "        if not evaluado:\n",
    "            clase = TableroAutomatico(conf)\n",
    "            arr3.append(clase)\n",
    "    except:\n",
    "        if ValueError:\n",
    "            fallidos.append(tablero)\n",
    "    vueltas += 1\n",
    "\n",
    "while (len(arr3) + len(fallidos)) < esperados * 8:\n",
    "    tablero = generarConfiguracion(1, 3, [0, 0, 1, 0, 1, 0, 1, 0, 0])\n",
    "\n",
    "    conf = np.array(tablero)\n",
    "\n",
    "    try:\n",
    "        if not evaluado:\n",
    "            clase = TableroAutomatico(conf)\n",
    "            arr3.append(clase)\n",
    "    except:\n",
    "        if ValueError:\n",
    "            fallidos.append(tablero)\n",
    "    vueltas += 1\n",
    "\n",
    "new = []\n",
    "\n",
    "for x in arr3:\n",
    "    new.append(TableroAutomatico(np.array(configuracionOpuesta(x.tablero))))\n",
    "\n",
    "arr3.extend(new)\n",
    "\n",
    "msg = f\"Fallaron {len(fallidos)} Tableros\\n\" \\\n",
    "      f\"Se aceptaron {len(arr3)} Tableros\\n\" \\\n",
    "      f\"Se dieron {vueltas} iteraciones\\n\"\n",
    "\n",
    "print(msg)\n",
    "\n",
    "for i, x in enumerate(arr3):\n",
    "    if i < 5:\n",
    "        msg += f\"{i + 1}.- {x}\"\n",
    "    else:\n",
    "        break\n",
    "\n",
    "print(msg)"
   ],
   "metadata": {
    "collapsed": false
   }
  },
  {
   "cell_type": "code",
   "execution_count": null,
   "outputs": [],
   "source": [],
   "metadata": {
    "collapsed": false
   }
  }
 ],
 "metadata": {
  "kernelspec": {
   "display_name": "Python 3",
   "language": "python",
   "name": "python3"
  },
  "language_info": {
   "codemirror_mode": {
    "name": "ipython",
    "version": 2
   },
   "file_extension": ".py",
   "mimetype": "text/x-python",
   "name": "python",
   "nbconvert_exporter": "python",
   "pygments_lexer": "ipython2",
   "version": "2.7.6"
  }
 },
 "nbformat": 4,
 "nbformat_minor": 0
}
