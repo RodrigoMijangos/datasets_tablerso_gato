{
 "cells": [
  {
   "cell_type": "markdown",
   "metadata": {
    "collapsed": true,
    "pycharm": {
     "name": "#%% md\n"
    }
   },
   "source": [
    "# Definición de clase\n",
    "### Definiendo El tablero\n",
    "\n",
    "Cada tablero será una configuración de 9 espacios con ceros, unos o dos.\n",
    "\n",
    "Por lo que definimos la clase."
   ]
  },
  {
   "cell_type": "code",
   "execution_count": 2,
   "outputs": [
    {
     "name": "stdout",
     "output_type": "stream",
     "text": [
      "El tablero es: [1 2 1 1 1 2 2 1 2]\n",
      "La cantidad de turnos fue: 9\n",
      "El resultado fue un empate\n"
     ]
    },
    {
     "ename": "AttributeError",
     "evalue": "El tablero debe tener 9 elementos",
     "output_type": "error",
     "traceback": [
      "\u001B[1;31m---------------------------------------------------------------------------\u001B[0m",
      "\u001B[1;31mAttributeError\u001B[0m                            Traceback (most recent call last)",
      "Input \u001B[1;32mIn [2]\u001B[0m, in \u001B[0;36m<cell line: 32>\u001B[1;34m()\u001B[0m\n\u001B[0;32m     30\u001B[0m clase \u001B[38;5;241m=\u001B[39m Tablero(\u001B[38;5;241m0\u001B[39m, \u001B[38;5;241m9\u001B[39m, \u001B[38;5;241m1\u001B[39m, \u001B[38;5;241m2\u001B[39m, \u001B[38;5;241m1\u001B[39m, \u001B[38;5;241m1\u001B[39m, \u001B[38;5;241m1\u001B[39m, \u001B[38;5;241m2\u001B[39m, \u001B[38;5;241m2\u001B[39m, \u001B[38;5;241m1\u001B[39m, \u001B[38;5;241m2\u001B[39m)\n\u001B[0;32m     31\u001B[0m \u001B[38;5;28mprint\u001B[39m(clase)\n\u001B[1;32m---> 32\u001B[0m claseWE \u001B[38;5;241m=\u001B[39m \u001B[43mTablero\u001B[49m\u001B[43m(\u001B[49m\u001B[38;5;241;43m0\u001B[39;49m\u001B[43m,\u001B[49m\u001B[43m \u001B[49m\u001B[38;5;241;43m9\u001B[39;49m\u001B[43m,\u001B[49m\u001B[43m \u001B[49m\u001B[38;5;241;43m1\u001B[39;49m\u001B[43m)\u001B[49m\n\u001B[0;32m     33\u001B[0m \u001B[38;5;28mprint\u001B[39m(claseWE)\n",
      "Input \u001B[1;32mIn [2]\u001B[0m, in \u001B[0;36mTablero.__init__\u001B[1;34m(self, ganador, turnos, *tablero)\u001B[0m\n\u001B[0;32m      6\u001B[0m \u001B[38;5;28;01mdef\u001B[39;00m \u001B[38;5;21m__init__\u001B[39m(\u001B[38;5;28mself\u001B[39m, ganador: \u001B[38;5;28mint\u001B[39m, turnos, \u001B[38;5;241m*\u001B[39mtablero):\n\u001B[0;32m      7\u001B[0m     \u001B[38;5;28;01mif\u001B[39;00m \u001B[38;5;28mlen\u001B[39m(tablero) \u001B[38;5;241m!=\u001B[39m \u001B[38;5;241m9\u001B[39m:\n\u001B[1;32m----> 8\u001B[0m         \u001B[38;5;28;01mraise\u001B[39;00m \u001B[38;5;167;01mAttributeError\u001B[39;00m(\u001B[38;5;124m'\u001B[39m\u001B[38;5;124mEl tablero debe tener 9 elementos\u001B[39m\u001B[38;5;124m'\u001B[39m)\n\u001B[0;32m      9\u001B[0m     \u001B[38;5;28;01melse\u001B[39;00m:\n\u001B[0;32m     10\u001B[0m         \u001B[38;5;28mself\u001B[39m\u001B[38;5;241m.\u001B[39mganador \u001B[38;5;241m=\u001B[39m ganador\n",
      "\u001B[1;31mAttributeError\u001B[0m: El tablero debe tener 9 elementos"
     ]
    }
   ],
   "source": [
    "import numpy as np\n",
    "class Tablero:\n",
    "    ganador: int # Define quien ha ganado el juego, 0 para un empate, 1 para las equis (X) y 2 para los Círculos (O)\n",
    "    tablero: None # Define la configuración del tablero (Data set)\n",
    "    turnos: int # Define en cuantos turnos se ha ganado, en caso de ser 9 turnos existe la posibilidad de que sea un empate\n",
    "    def __init__(self, ganador: int, turnos, *tablero):\n",
    "        if len(tablero) != 9:\n",
    "            raise AttributeError('El tablero debe tener 9 elementos')\n",
    "        else:\n",
    "            self.ganador = ganador\n",
    "            self.turnos = turnos\n",
    "            arr = []\n",
    "            for x in tablero:\n",
    "                arr.append(x)\n",
    "            tablero = np.array(arr)\n",
    "            self.tablero = tablero\n",
    "\n",
    "    def __str__(self):\n",
    "        msg = f\"El tablero es: {self.tablero}\\n\" \\\n",
    "              f\"La cantidad de turnos fue: {self.turnos}\\n\"\n",
    "        if self.ganador == 0:\n",
    "            msg += f\"El resultado fue un empate\"\n",
    "        elif self.ganador == 1:\n",
    "            msg += f\"El ganador fueron las X\"\n",
    "        else:\n",
    "            msg += f\"El ganador fueron los O\"\n",
    "\n",
    "        return msg\n",
    "\n",
    "clase = Tablero(0, 9, 1, 2, 1, 1, 1, 2, 2, 1, 2)\n",
    "print(clase)\n",
    "claseWE = Tablero(0, 9, 1)\n",
    "print(claseWE)"
   ],
   "metadata": {
    "collapsed": false,
    "pycharm": {
     "name": "#%%\n"
    }
   }
  },
  {
   "cell_type": "markdown",
   "source": [
    "# Definiendo el evaluador\n",
    "### La clase debe evaluar por sí misma quien ha sido el ganador\n",
    "\n",
    "Ya tenemos la idea principal de lo que debe contener un tablero de Gato.\n",
    "Ahora hay que dejar que lo haga todo por nosotros para únicamente indicarle la configuración del tablero."
   ],
   "metadata": {
    "collapsed": false,
    "pycharm": {
     "name": "#%% md\n"
    }
   }
  },
  {
   "cell_type": "code",
   "execution_count": 13,
   "outputs": [
    {
     "name": "stdout",
     "output_type": "stream",
     "text": [
      "El tablero es: [1 1 1 2 2 0 0 0 0]\n",
      "La cantidad de turnos fue: 5\n",
      "Ganaron las X\n"
     ]
    }
   ],
   "source": [
    "class TableroAutomatico:\n",
    "    ganador: int\n",
    "    tablero: np.ndarray\n",
    "    turnos: int\n",
    "\n",
    "    def __init__(self, *configuracion):\n",
    "        if len(configuracion) != 9:\n",
    "            raise ValueError('La configuración del tablero debe ser de 9 individuos')\n",
    "        else:\n",
    "            arr = []\n",
    "            for x in configuracion:\n",
    "                arr.append(x)\n",
    "            conf = np.array(arr)\n",
    "\n",
    "            if self.__validar(conf):\n",
    "                ganador = self.__definirGanador()\n",
    "\n",
    "                if self.turnos < 9 and ganador != 0:\n",
    "                    if ganador != -1:\n",
    "                        self.ganador = ganador\n",
    "                    else:\n",
    "                        raise ValueError(\"Existen 2 ganadores en la configuracion\")\n",
    "                else:\n",
    "                    raise ValueError(\"La configuración es un juego incompleto\")\n",
    "\n",
    "            else:\n",
    "                raise ValueError(\"El tablero no tiene una configuración adecuada\")\n",
    "\n",
    "    def __validar(self, conf) -> bool:\n",
    "        vacio = np.count_nonzero(conf == 0)\n",
    "        equis = np.count_nonzero(conf == 1)\n",
    "        circulo = np.count_nonzero(conf == 2)\n",
    "        if (vacio % 2 == 0 and vacio <= 4) and (equis - 1 == circulo or equis + 1 == circulo):\n",
    "            self.tablero = conf\n",
    "            self.turnos = equis + circulo\n",
    "            return True\n",
    "        elif equis == circulo and vacio <= 3:\n",
    "            self.tablero = conf\n",
    "            self.turnos = equis + circulo\n",
    "            return True\n",
    "        else:\n",
    "            return False\n",
    "\n",
    "\n",
    "    def __definirGanador(self) -> int:\n",
    "        arr = self.tablero\n",
    "\n",
    "        ganador = -1\n",
    "        if arr.item(0) != 0:\n",
    "            eval = arr.item(0)\n",
    "            # Linea 1, 2, 3\n",
    "            if (eval == arr.item(1)) and eval == arr.item(2):\n",
    "                if ganador != -1:\n",
    "                    return -1\n",
    "                ganador = eval\n",
    "            # Diagonal 1, 5, 9\n",
    "            if (eval == arr.item(3)) and eval == arr.item(6):\n",
    "                if ganador != -1:\n",
    "                    return -1\n",
    "                ganador = eval\n",
    "            # Linea 1, 4, 7\n",
    "            if (eval == arr.item(4)) and eval == arr.item(8):\n",
    "                if ganador != -1:\n",
    "                    return -1\n",
    "                ganador = eval\n",
    "        if arr.item(3) != 0:\n",
    "            eval = arr.item(3)\n",
    "            # Linea 4, 5, 6\n",
    "            if (eval == arr.item(4)) and eval == arr.item(5):\n",
    "                if ganador != -1:\n",
    "                    return -1\n",
    "                ganador = eval\n",
    "        if arr.item(6) != 0:\n",
    "            eval = arr.item(6)\n",
    "            # Linea 7, 5, 3\n",
    "            if (eval == arr.item(4)) and eval == arr.item(2):\n",
    "                if ganador != -1:\n",
    "                    return -1\n",
    "                ganador = eval\n",
    "            # Linea 7, 8, 9\n",
    "            if (eval == arr.item(7)) and eval == arr.item(8):\n",
    "                if ganador != -1:\n",
    "                    return -1\n",
    "                ganador = eval\n",
    "        if arr.item(1) != 0:\n",
    "            eval = arr.item(1)\n",
    "            # Linea 2, 5, 8\n",
    "            if (eval == arr.item(4)) and eval == arr.item(7):\n",
    "                if ganador != -1:\n",
    "                    return -1\n",
    "                ganador = eval\n",
    "        if arr.item(2) != 0:\n",
    "            eval = arr.item(2)\n",
    "            # Linea 3, 6, 9\n",
    "            if (eval == arr.item(5)) and eval == arr.item(8):\n",
    "                if ganador != -1:\n",
    "                    return -1\n",
    "                ganador = eval\n",
    "\n",
    "        if ganador != -1:\n",
    "            return ganador\n",
    "\n",
    "        return 0\n",
    "\n",
    "    def __str__(self):\n",
    "        msg = f\"El tablero es: {self.tablero}\\n\" \\\n",
    "              f\"La cantidad de turnos fue: {self.turnos}\\n\"\n",
    "        if self.ganador == 0:\n",
    "            msg += f\"El resultado fue un empate\"\n",
    "        elif self.ganador == 1:\n",
    "            msg += f\"Ganaron las X\"\n",
    "        else:\n",
    "            msg += f\"Ganaron los O\"\n",
    "\n",
    "        return msg\n",
    "\n",
    "clase = TableroAutomatico(1, 1, 1, 2, 2, 0, 0, 0, 0)\n",
    "print(clase)"
   ],
   "metadata": {
    "collapsed": false,
    "pycharm": {
     "name": "#%%\n"
    }
   }
  },
  {
   "cell_type": "markdown",
   "source": [
    "## Error de longitud"
   ],
   "metadata": {
    "collapsed": false,
    "pycharm": {
     "name": "#%% md\n"
    }
   }
  },
  {
   "cell_type": "code",
   "execution_count": 6,
   "outputs": [
    {
     "ename": "ValueError",
     "evalue": "La configuración del tablero debe ser de 9 individuos",
     "output_type": "error",
     "traceback": [
      "\u001B[1;31m---------------------------------------------------------------------------\u001B[0m",
      "\u001B[1;31mValueError\u001B[0m                                Traceback (most recent call last)",
      "Input \u001B[1;32mIn [6]\u001B[0m, in \u001B[0;36m<cell line: 1>\u001B[1;34m()\u001B[0m\n\u001B[1;32m----> 1\u001B[0m clase \u001B[38;5;241m=\u001B[39m \u001B[43mTableroAutomatico\u001B[49m\u001B[43m(\u001B[49m\u001B[38;5;241;43m1\u001B[39;49m\u001B[43m,\u001B[49m\u001B[43m \u001B[49m\u001B[38;5;241;43m1\u001B[39;49m\u001B[43m,\u001B[49m\u001B[43m \u001B[49m\u001B[38;5;241;43m1\u001B[39;49m\u001B[43m,\u001B[49m\u001B[43m \u001B[49m\u001B[38;5;241;43m2\u001B[39;49m\u001B[43m,\u001B[49m\u001B[43m \u001B[49m\u001B[38;5;241;43m2\u001B[39;49m\u001B[43m)\u001B[49m\n",
      "Input \u001B[1;32mIn [5]\u001B[0m, in \u001B[0;36mTableroAutomatico.__init__\u001B[1;34m(self, *configuracion)\u001B[0m\n\u001B[0;32m      6\u001B[0m \u001B[38;5;28;01mdef\u001B[39;00m \u001B[38;5;21m__init__\u001B[39m(\u001B[38;5;28mself\u001B[39m, \u001B[38;5;241m*\u001B[39mconfiguracion):\n\u001B[0;32m      7\u001B[0m     \u001B[38;5;28;01mif\u001B[39;00m \u001B[38;5;28mlen\u001B[39m(configuracion) \u001B[38;5;241m!=\u001B[39m \u001B[38;5;241m9\u001B[39m:\n\u001B[1;32m----> 8\u001B[0m         \u001B[38;5;28;01mraise\u001B[39;00m \u001B[38;5;167;01mValueError\u001B[39;00m(\u001B[38;5;124m'\u001B[39m\u001B[38;5;124mLa configuración del tablero debe ser de 9 individuos\u001B[39m\u001B[38;5;124m'\u001B[39m)\n\u001B[0;32m      9\u001B[0m     \u001B[38;5;28;01melse\u001B[39;00m:\n\u001B[0;32m     10\u001B[0m         arr \u001B[38;5;241m=\u001B[39m []\n",
      "\u001B[1;31mValueError\u001B[0m: La configuración del tablero debe ser de 9 individuos"
     ]
    }
   ],
   "source": [
    "clase = TableroAutomatico(1, 1, 1, 2, 2)"
   ],
   "metadata": {
    "collapsed": false,
    "pycharm": {
     "name": "#%%\n"
    }
   }
  },
  {
   "cell_type": "markdown",
   "source": [
    "## Error de configuración"
   ],
   "metadata": {
    "collapsed": false,
    "pycharm": {
     "name": "#%% md\n"
    }
   }
  },
  {
   "cell_type": "code",
   "execution_count": 7,
   "outputs": [
    {
     "ename": "ValueError",
     "evalue": "El tablero no tiene una configuración adecuada",
     "output_type": "error",
     "traceback": [
      "\u001B[1;31m---------------------------------------------------------------------------\u001B[0m",
      "\u001B[1;31mValueError\u001B[0m                                Traceback (most recent call last)",
      "Input \u001B[1;32mIn [7]\u001B[0m, in \u001B[0;36m<cell line: 1>\u001B[1;34m()\u001B[0m\n\u001B[1;32m----> 1\u001B[0m clase \u001B[38;5;241m=\u001B[39m \u001B[43mTableroAutomatico\u001B[49m\u001B[43m(\u001B[49m\u001B[38;5;241;43m1\u001B[39;49m\u001B[43m,\u001B[49m\u001B[43m \u001B[49m\u001B[38;5;241;43m1\u001B[39;49m\u001B[43m,\u001B[49m\u001B[43m \u001B[49m\u001B[38;5;241;43m1\u001B[39;49m\u001B[43m,\u001B[49m\u001B[43m \u001B[49m\u001B[38;5;241;43m2\u001B[39;49m\u001B[43m,\u001B[49m\u001B[43m \u001B[49m\u001B[38;5;241;43m2\u001B[39;49m\u001B[43m,\u001B[49m\u001B[43m \u001B[49m\u001B[38;5;241;43m1\u001B[39;49m\u001B[43m,\u001B[49m\u001B[43m \u001B[49m\u001B[38;5;241;43m0\u001B[39;49m\u001B[43m,\u001B[49m\u001B[43m \u001B[49m\u001B[38;5;241;43m0\u001B[39;49m\u001B[43m,\u001B[49m\u001B[43m \u001B[49m\u001B[38;5;241;43m0\u001B[39;49m\u001B[43m)\u001B[49m\n",
      "Input \u001B[1;32mIn [5]\u001B[0m, in \u001B[0;36mTableroAutomatico.__init__\u001B[1;34m(self, *configuracion)\u001B[0m\n\u001B[0;32m     21\u001B[0m         \u001B[38;5;28;01mraise\u001B[39;00m \u001B[38;5;167;01mValueError\u001B[39;00m(\u001B[38;5;124m\"\u001B[39m\u001B[38;5;124mExisten 2 ganadores en la configuracion\u001B[39m\u001B[38;5;124m\"\u001B[39m)\n\u001B[0;32m     23\u001B[0m \u001B[38;5;28;01melse\u001B[39;00m:\n\u001B[1;32m---> 24\u001B[0m     \u001B[38;5;28;01mraise\u001B[39;00m \u001B[38;5;167;01mValueError\u001B[39;00m(\u001B[38;5;124m\"\u001B[39m\u001B[38;5;124mEl tablero no tiene una configuración adecuada\u001B[39m\u001B[38;5;124m\"\u001B[39m)\n",
      "\u001B[1;31mValueError\u001B[0m: El tablero no tiene una configuración adecuada"
     ]
    }
   ],
   "source": [
    "clase = TableroAutomatico(1, 1, 1, 2, 2, 1, 0, 0, 0)"
   ],
   "metadata": {
    "collapsed": false,
    "pycharm": {
     "name": "#%%\n"
    }
   }
  },
  {
   "cell_type": "markdown",
   "source": [
    "# Dos ganadores en una configuración"
   ],
   "metadata": {
    "collapsed": false
   }
  },
  {
   "cell_type": "code",
   "execution_count": 8,
   "outputs": [
    {
     "ename": "ValueError",
     "evalue": "Existen 2 ganadores en la configuracion",
     "output_type": "error",
     "traceback": [
      "\u001B[1;31m---------------------------------------------------------------------------\u001B[0m",
      "\u001B[1;31mValueError\u001B[0m                                Traceback (most recent call last)",
      "Input \u001B[1;32mIn [8]\u001B[0m, in \u001B[0;36m<cell line: 1>\u001B[1;34m()\u001B[0m\n\u001B[1;32m----> 1\u001B[0m clase \u001B[38;5;241m=\u001B[39m \u001B[43mTableroAutomatico\u001B[49m\u001B[43m(\u001B[49m\u001B[38;5;241;43m1\u001B[39;49m\u001B[43m,\u001B[49m\u001B[43m \u001B[49m\u001B[38;5;241;43m1\u001B[39;49m\u001B[43m,\u001B[49m\u001B[43m \u001B[49m\u001B[38;5;241;43m1\u001B[39;49m\u001B[43m,\u001B[49m\u001B[43m \u001B[49m\u001B[38;5;241;43m2\u001B[39;49m\u001B[43m,\u001B[49m\u001B[43m \u001B[49m\u001B[38;5;241;43m2\u001B[39;49m\u001B[43m,\u001B[49m\u001B[43m \u001B[49m\u001B[38;5;241;43m2\u001B[39;49m\u001B[43m,\u001B[49m\u001B[43m \u001B[49m\u001B[38;5;241;43m0\u001B[39;49m\u001B[43m,\u001B[49m\u001B[43m \u001B[49m\u001B[38;5;241;43m0\u001B[39;49m\u001B[43m,\u001B[49m\u001B[43m \u001B[49m\u001B[38;5;241;43m0\u001B[39;49m\u001B[43m)\u001B[49m\n",
      "Input \u001B[1;32mIn [5]\u001B[0m, in \u001B[0;36mTableroAutomatico.__init__\u001B[1;34m(self, *configuracion)\u001B[0m\n\u001B[0;32m     19\u001B[0m         \u001B[38;5;28mself\u001B[39m\u001B[38;5;241m.\u001B[39mganador \u001B[38;5;241m=\u001B[39m ganador\n\u001B[0;32m     20\u001B[0m     \u001B[38;5;28;01melse\u001B[39;00m:\n\u001B[1;32m---> 21\u001B[0m         \u001B[38;5;28;01mraise\u001B[39;00m \u001B[38;5;167;01mValueError\u001B[39;00m(\u001B[38;5;124m\"\u001B[39m\u001B[38;5;124mExisten 2 ganadores en la configuracion\u001B[39m\u001B[38;5;124m\"\u001B[39m)\n\u001B[0;32m     23\u001B[0m \u001B[38;5;28;01melse\u001B[39;00m:\n\u001B[0;32m     24\u001B[0m     \u001B[38;5;28;01mraise\u001B[39;00m \u001B[38;5;167;01mValueError\u001B[39;00m(\u001B[38;5;124m\"\u001B[39m\u001B[38;5;124mEl tablero no tiene una configuración adecuada\u001B[39m\u001B[38;5;124m\"\u001B[39m)\n",
      "\u001B[1;31mValueError\u001B[0m: Existen 2 ganadores en la configuracion"
     ]
    }
   ],
   "source": [
    "clase = TableroAutomatico(1, 1, 1, 2, 2, 2, 0, 0, 0)"
   ],
   "metadata": {
    "collapsed": false,
    "pycharm": {
     "name": "#%%\n"
    }
   }
  },
  {
   "cell_type": "markdown",
   "source": [
    "# Un jugador ganando dos veces"
   ],
   "metadata": {
    "collapsed": false
   }
  },
  {
   "cell_type": "code",
   "execution_count": 10,
   "outputs": [
    {
     "ename": "ValueError",
     "evalue": "Existen 2 ganadores en la configuracion",
     "output_type": "error",
     "traceback": [
      "\u001B[1;31m---------------------------------------------------------------------------\u001B[0m",
      "\u001B[1;31mValueError\u001B[0m                                Traceback (most recent call last)",
      "Input \u001B[1;32mIn [10]\u001B[0m, in \u001B[0;36m<cell line: 1>\u001B[1;34m()\u001B[0m\n\u001B[1;32m----> 1\u001B[0m clase \u001B[38;5;241m=\u001B[39m \u001B[43mTableroAutomatico\u001B[49m\u001B[43m(\u001B[49m\u001B[38;5;241;43m1\u001B[39;49m\u001B[43m,\u001B[49m\u001B[43m \u001B[49m\u001B[38;5;241;43m1\u001B[39;49m\u001B[43m,\u001B[49m\u001B[43m \u001B[49m\u001B[38;5;241;43m1\u001B[39;49m\u001B[43m,\u001B[49m\u001B[43m \u001B[49m\u001B[38;5;241;43m1\u001B[39;49m\u001B[43m,\u001B[49m\u001B[43m \u001B[49m\u001B[38;5;241;43m2\u001B[39;49m\u001B[43m,\u001B[49m\u001B[43m \u001B[49m\u001B[38;5;241;43m2\u001B[39;49m\u001B[43m,\u001B[49m\u001B[43m \u001B[49m\u001B[38;5;241;43m1\u001B[39;49m\u001B[43m,\u001B[49m\u001B[43m \u001B[49m\u001B[38;5;241;43m2\u001B[39;49m\u001B[43m,\u001B[49m\u001B[43m \u001B[49m\u001B[38;5;241;43m2\u001B[39;49m\u001B[43m)\u001B[49m\n",
      "Input \u001B[1;32mIn [5]\u001B[0m, in \u001B[0;36mTableroAutomatico.__init__\u001B[1;34m(self, *configuracion)\u001B[0m\n\u001B[0;32m     19\u001B[0m         \u001B[38;5;28mself\u001B[39m\u001B[38;5;241m.\u001B[39mganador \u001B[38;5;241m=\u001B[39m ganador\n\u001B[0;32m     20\u001B[0m     \u001B[38;5;28;01melse\u001B[39;00m:\n\u001B[1;32m---> 21\u001B[0m         \u001B[38;5;28;01mraise\u001B[39;00m \u001B[38;5;167;01mValueError\u001B[39;00m(\u001B[38;5;124m\"\u001B[39m\u001B[38;5;124mExisten 2 ganadores en la configuracion\u001B[39m\u001B[38;5;124m\"\u001B[39m)\n\u001B[0;32m     23\u001B[0m \u001B[38;5;28;01melse\u001B[39;00m:\n\u001B[0;32m     24\u001B[0m     \u001B[38;5;28;01mraise\u001B[39;00m \u001B[38;5;167;01mValueError\u001B[39;00m(\u001B[38;5;124m\"\u001B[39m\u001B[38;5;124mEl tablero no tiene una configuración adecuada\u001B[39m\u001B[38;5;124m\"\u001B[39m)\n",
      "\u001B[1;31mValueError\u001B[0m: Existen 2 ganadores en la configuracion"
     ]
    }
   ],
   "source": [
    "clase = TableroAutomatico(1, 1, 1, 1, 2, 2, 1, 2, 2)"
   ],
   "metadata": {
    "collapsed": false,
    "pycharm": {
     "name": "#%%\n"
    }
   }
  },
  {
   "cell_type": "markdown",
   "source": [
    "# Juego incompleto"
   ],
   "metadata": {
    "collapsed": false
   }
  },
  {
   "cell_type": "code",
   "execution_count": 14,
   "outputs": [
    {
     "ename": "ValueError",
     "evalue": "La configuración es un juego incompleto",
     "output_type": "error",
     "traceback": [
      "\u001B[1;31m---------------------------------------------------------------------------\u001B[0m",
      "\u001B[1;31mValueError\u001B[0m                                Traceback (most recent call last)",
      "Input \u001B[1;32mIn [14]\u001B[0m, in \u001B[0;36m<cell line: 1>\u001B[1;34m()\u001B[0m\n\u001B[1;32m----> 1\u001B[0m clase \u001B[38;5;241m=\u001B[39m \u001B[43mTableroAutomatico\u001B[49m\u001B[43m(\u001B[49m\u001B[38;5;241;43m1\u001B[39;49m\u001B[43m,\u001B[49m\u001B[43m \u001B[49m\u001B[38;5;241;43m1\u001B[39;49m\u001B[43m,\u001B[49m\u001B[43m \u001B[49m\u001B[38;5;241;43m2\u001B[39;49m\u001B[43m,\u001B[49m\u001B[43m \u001B[49m\u001B[38;5;241;43m1\u001B[39;49m\u001B[43m,\u001B[49m\u001B[43m \u001B[49m\u001B[38;5;241;43m0\u001B[39;49m\u001B[43m,\u001B[49m\u001B[43m \u001B[49m\u001B[38;5;241;43m2\u001B[39;49m\u001B[43m,\u001B[49m\u001B[43m \u001B[49m\u001B[38;5;241;43m0\u001B[39;49m\u001B[43m,\u001B[49m\u001B[43m \u001B[49m\u001B[38;5;241;43m0\u001B[39;49m\u001B[43m,\u001B[49m\u001B[43m \u001B[49m\u001B[38;5;241;43m0\u001B[39;49m\u001B[43m)\u001B[49m\n",
      "Input \u001B[1;32mIn [13]\u001B[0m, in \u001B[0;36mTableroAutomatico.__init__\u001B[1;34m(self, *configuracion)\u001B[0m\n\u001B[0;32m     22\u001B[0m             \u001B[38;5;28;01mraise\u001B[39;00m \u001B[38;5;167;01mValueError\u001B[39;00m(\u001B[38;5;124m\"\u001B[39m\u001B[38;5;124mExisten 2 ganadores en la configuracion\u001B[39m\u001B[38;5;124m\"\u001B[39m)\n\u001B[0;32m     23\u001B[0m     \u001B[38;5;28;01melse\u001B[39;00m:\n\u001B[1;32m---> 24\u001B[0m         \u001B[38;5;28;01mraise\u001B[39;00m \u001B[38;5;167;01mValueError\u001B[39;00m(\u001B[38;5;124m\"\u001B[39m\u001B[38;5;124mLa configuración es un juego incompleto\u001B[39m\u001B[38;5;124m\"\u001B[39m)\n\u001B[0;32m     26\u001B[0m \u001B[38;5;28;01melse\u001B[39;00m:\n\u001B[0;32m     27\u001B[0m     \u001B[38;5;28;01mraise\u001B[39;00m \u001B[38;5;167;01mValueError\u001B[39;00m(\u001B[38;5;124m\"\u001B[39m\u001B[38;5;124mEl tablero no tiene una configuración adecuada\u001B[39m\u001B[38;5;124m\"\u001B[39m)\n",
      "\u001B[1;31mValueError\u001B[0m: La configuración es un juego incompleto"
     ]
    }
   ],
   "source": [
    "clase = TableroAutomatico(1, 1, 2, 1, 0, 2, 0, 0, 0)"
   ],
   "metadata": {
    "collapsed": false,
    "pycharm": {
     "name": "#%%\n"
    }
   }
  },
  {
   "cell_type": "markdown",
   "source": [
    "# Generando tableros\n",
    "$$f\\left(k\\right) = \\binom{n}{k} p^k\\left(1-p\\right)^{n-k}$$"
   ],
   "metadata": {
    "collapsed": false,
    "pycharm": {
     "name": "#%% md\n"
    }
   }
  },
  {
   "cell_type": "code",
   "execution_count": null,
   "outputs": [],
   "source": [],
   "metadata": {
    "collapsed": false,
    "pycharm": {
     "name": "#%%\n"
    }
   }
  }
 ],
 "metadata": {
  "kernelspec": {
   "display_name": "Python 3",
   "language": "python",
   "name": "python3"
  },
  "language_info": {
   "codemirror_mode": {
    "name": "ipython",
    "version": 2
   },
   "file_extension": ".py",
   "mimetype": "text/x-python",
   "name": "python",
   "nbconvert_exporter": "python",
   "pygments_lexer": "ipython2",
   "version": "2.7.6"
  }
 },
 "nbformat": 4,
 "nbformat_minor": 0
}